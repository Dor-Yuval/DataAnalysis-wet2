{
 "cells": [
  {
   "cell_type": "markdown",
   "metadata": {},
   "source": [
    "# <img src=\"https://img.icons8.com/dusk/64/000000/artificial-intelligence.png\" style=\"height:50px;display:inline\"> EE 046202 - Technion - Unsupervised Learning & Data Analysis\n",
    "---\n",
    "\n",
    "## Computer Assignment 2 - Variational Autoencoders & Clustering\n",
    "---\n",
    "\n",
    "### <img src=\"https://img.icons8.com/bubbles/50/000000/checklist.png\" style=\"height:50px;display:inline\"> Agenda\n",
    "---\n",
    "* Variational Autoencoders (VAEs)\n",
    "    * $\\beta$-VAE\n",
    "    * Conditional VAE (CVAE)\n",
    "    * BONUS: Generating Pokemons\n",
    "* Clustering\n",
    "\n",
    "#### Use as many cells as you need\n",
    "#### אפשר גם לכתוב בעברית, אבל עדיף באנגלית\n",
    "\n",
    "* Code Tasks are denoted with: <img src=\"https://img.icons8.com/color/48/000000/code.png\">\n",
    "* Questions (which you need to answer in a Markdown cell) are denoted with: <img src=\"https://img.icons8.com/bubbles/48/000000/ask-question.png\">"
   ]
  },
  {
   "cell_type": "markdown",
   "metadata": {},
   "source": [
    "### <img src=\"https://img.icons8.com/bubbles/50/000000/information.png\" style=\"height:50px;display:inline\"> Students Information\n",
    "---\n",
    "* Fill in\n",
    "\n",
    "|Name     |Campus Email| ID  |\n",
    "|---------|--------------------------------|----------|\n",
    "|Yuval Goshen| yuval.goshen@campus.technion.ac.il| 205810179|\n",
    "|Dor Bitton| dor.bitton@campus.technion.ac.il| 205888324|"
   ]
  },
  {
   "cell_type": "markdown",
   "metadata": {},
   "source": [
    "### <img src=\"https://img.icons8.com/bubbles/50/000000/upload-to-cloud.png\" style=\"height:50px;display:inline\"> Submission Guidelines\n",
    "---\n",
    "* Maximal garde: **100** (even with the bonus, the grade will not be above 100).\n",
    "    * Example: if you got 5 points bonus, but you were right in all sections, your grade will still be 100 (and not 105).\n",
    "    * Example: if you got 5 points bonus, and 6 points were deducted for wrong answers, your grade will be 99.\n",
    "* Submission only in **pairs**. \n",
    "    * Please make sure you have registered your group in Moodle (there is a group creation component on the Moodle where you need to create your group and assign members).\n",
    "* **BONUS**:\n",
    "    * 5 points - completing the Pokemon task with *fully-connected* layers (black & white version)\n",
    "    * 10 points - completing the Pokemon task with *convolutional* layers (RGB version)\n",
    "* **No handwritten submissions.** You can choose whether to answer in a Markdown cell in this notebook or attach a PDF with your answers.\n",
    "* <a style='color:red'> SAVE THE NOTEBOOKS WITH THE OUTPUT, CODE CELLS THAT WERE NOT RUN WILL NOT GET ANY POINTS! </a>\n",
    "* What you have to submit:\n",
    "    * If you have answered the questions in the notebook, you should submit this file only, with the name: `ee046202_wet2_id1_id2.ipynb`.\n",
    "    * If you answered the questions in a different file you should submit a `.zip` file with the name `ee046202_wet2_id1_id2.zip` with content:\n",
    "        * `ee046202_wet2_id1_id2.ipynb` - the code tasks\n",
    "        * `ee046202_wet2_id1_id2.pdf` - answers to questions.\n",
    "    * No other file-types (`.py`, `.docx`...) will be accepted.\n",
    "* Submission on the course website (Moodle).\n",
    "* **Latex in Colab** - in some cases, Latex equations may no be rendered. To avoid this, make sure to not use *bullets* in your answers (\"* some text here with Latex equations\" -> \"some text here with Latex equations\")."
   ]
  },
  {
   "cell_type": "markdown",
   "metadata": {},
   "source": [
    "### <img src=\"https://img.icons8.com/clouds/96/000000/keyboard.png\" style=\"height:50px;display:inline\"> Keyboard Shortcuts\n",
    "---\n",
    "* Run current cell: **Ctrl + Enter**\n",
    "* Run current cell and move to the next: **Shift + Enter**\n",
    "* Show lines in a code cell: **Esc + L**\n",
    "* View function documentation: **Shift + Tab** inside the parenthesis or `help(name_of_module)`\n",
    "* New cell below: **Esc + B**\n",
    "* Delete cell: **Esc + D, D** (two D's)"
   ]
  },
  {
   "cell_type": "markdown",
   "metadata": {},
   "source": [
    "### <img src=\"https://img.icons8.com/cute-clipart/64/000000/info.png\" style=\"height:50px;display:inline\"> Tip\n",
    "---\n",
    "If you find it more convenient, you can copy the section to a new cell, and answer the question or rite the code just right below it. For example:\n",
    "\n",
    "#### Question 0\n",
    "1. What is the best course in the Technion?\n",
    "2. Why does no one pick Bulbasaur as first pokemon?\n",
    "3. Why is there no superhero named Catman?\n",
    "\n",
    "#### Answers - Q0\n",
    "\n",
    "#### Q0 - Section 1\n",
    "* Q: What is the best course in the Technion?"
   ]
  },
  {
   "cell_type": "code",
   "execution_count": 2,
   "metadata": {
    "scrolled": false
   },
   "outputs": [
    {
     "name": "stdout",
     "output_type": "stream",
     "text": [
      "ANAM!\n"
     ]
    }
   ],
   "source": [
    "print(\"ANAM!\")"
   ]
  },
  {
   "cell_type": "markdown",
   "metadata": {},
   "source": [
    "#### Q0 - Section 2\n",
    "* Q: Why does no one pick Bulbasaur as first pokemon?\n",
    "\n",
    "It is really a riddle....\n",
    "\n",
    "#### Q0 - Section 3\n",
    "* Q: Why is there no superhero named Catman?\n",
    "\n",
    "I got nothing."
   ]
  },
  {
   "cell_type": "markdown",
   "metadata": {},
   "source": [
    "### <img src=\"https://img.icons8.com/cotton/64/000000/grand-master-key.png\" style=\"height:50px;display:inline\"> Part 1 - Variational Autoencoders - Prologue\n",
    "---\n",
    "In this section of the exercise we will analyze the VAE and introduce an enhacement called $\\beta$-VAE and also a variation of VAE that allows us some control over the latent space using conditional probability - Conditional Variational Autoencoder.\n",
    "\n",
    "For this part, you are provided the original implementation of the VAE from the tutorial. You will have to modify it throughout the tasks (yes yes, you can copy-paste from the original implementation).\n",
    "* **Note** - for better results you should tune the model!\n",
    "    * You can add layers / hidden units / different activations (ReLU, TanH, LeakyReLU, Sigmoid...)\n",
    "    * You can choose a different optimizer than Adam (SGD, RMSProp...), tune the learning rate...\n",
    "    * You can change the reconstruction loss (BCE, MSE, L1...)\n",
    "    * Other hyper-parameters like the batch-size, number of epochs and etc...\n",
    "\n",
    "We recommend running this part on Google Colab or on a GPU (if you have an access to one). Note that running on a GPU will lead to about x2 speedup in training. "
   ]
  },
  {
   "cell_type": "code",
   "execution_count": 3,
   "metadata": {},
   "outputs": [],
   "source": [
    "# imports for the exrcise - part 1\n",
    "# you can add more if you wish (but it is not really needed)\n",
    "import numpy as np\n",
    "import pandas as pd\n",
    "import matplotlib.pyplot as plt\n",
    "import time\n",
    "\n",
    "# pytorch imports\n",
    "import torch\n",
    "import torch.nn as nn\n",
    "import torch.nn.functional as F\n",
    "from torch.utils.data import DataLoader, Dataset, ConcatDataset\n",
    "import torchvision"
   ]
  },
  {
   "cell_type": "code",
   "execution_count": 4,
   "metadata": {},
   "outputs": [],
   "source": [
    "# the original implementation from the tutorial - leave untouched (for your own sake), copy-paste what you need to another cell\n",
    "\n",
    "# reparametrization trick\n",
    "def reparameterize(mu, logvar, device=torch.device(\"cpu\")):\n",
    "    \"\"\"\n",
    "    This function applies the reparameterization trick:\n",
    "    z = mu(X) + sigma(X)^0.5 * epsilon, where epsilon ~ N(0,I)\n",
    "    :param mu: mean of x\n",
    "    :param logvar: log variance of x\n",
    "    :param device: device to perform calculations on\n",
    "    :return z: the sampled latent variable\n",
    "    \"\"\"\n",
    "    std = torch.exp(0.5 * logvar)\n",
    "    eps = torch.randn_like(std).to(device)\n",
    "    return mu + eps * std\n",
    "\n",
    "\n",
    "# encoder - Q(z|X)\n",
    "class VaeEncoder(torch.nn.Module):\n",
    "    \"\"\"\n",
    "       This class builds the encoder for the VAE\n",
    "       :param x_dim: input dimensions\n",
    "       :param hidden_size: hidden layer size\n",
    "       :param z_dim: latent dimensions\n",
    "       :param device: cpu or gpu\n",
    "       \"\"\"\n",
    "\n",
    "    def __init__(self, x_dim=28*28, hidden_size=256, z_dim=10, device=torch.device(\"cpu\")):\n",
    "        super(VaeEncoder, self).__init__()\n",
    "        self.x_dim = x_dim\n",
    "        self.hidden_size = hidden_size\n",
    "        self.z_dim = z_dim\n",
    "        self.device = device\n",
    "        \n",
    "        self.features = nn.Sequential(nn.Linear(x_dim, self.hidden_size),\n",
    "                                      nn.ReLU())\n",
    "        \n",
    "        self.fc1 = nn.Linear(self.hidden_size, self.z_dim, bias=True)  # fully-connected to output mu\n",
    "        self.fc2 = nn.Linear(self.hidden_size, self.z_dim, bias=True)  # fully-connected to output logvar\n",
    "\n",
    "\n",
    "    def bottleneck(self, h):\n",
    "        \"\"\"\n",
    "        This function takes features from the encoder and outputs mu, log-var and a latent space vector z\n",
    "        :param h: features from the encoder\n",
    "        :return: z, mu, log-variance\n",
    "        \"\"\"\n",
    "        mu, logvar = self.fc1(h), self.fc2(h)\n",
    "        # use the reparametrization trick as torch.normal(mu, logvar.exp()) is not differentiable\n",
    "        z = reparameterize(mu, logvar, device=self.device)\n",
    "        return z, mu, logvar\n",
    "\n",
    "    def forward(self, x):\n",
    "        \"\"\"\n",
    "        This is the function called when doing the forward pass:\n",
    "        z, mu, logvar = VaeEncoder(X)\n",
    "        \"\"\"\n",
    "        h = self.features(x)\n",
    "        z, mu, logvar = self.bottleneck(h)\n",
    "        return z, mu, logvar\n",
    "\n",
    "    \n",
    "class VaeDecoder(torch.nn.Module):\n",
    "    \"\"\"\n",
    "       This class builds the decoder for the VAE\n",
    "       :param x_dim: input dimensions\n",
    "       :param hidden_size: hidden layer size\n",
    "       :param z_dim: latent dimensions\n",
    "       \"\"\"\n",
    "\n",
    "    def __init__(self, x_dim=28*28, hidden_size=256, z_dim=10):\n",
    "        super(VaeDecoder, self).__init__()\n",
    "        self.x_dim = x_dim\n",
    "        self.hidden_size = hidden_size\n",
    "        self.z_dim = z_dim\n",
    "        \n",
    "        self.decoder = nn.Sequential(nn.Linear(self.z_dim, self.hidden_size),\n",
    "                                     nn.ReLU(),\n",
    "                                     nn.Linear(self.hidden_size, self.x_dim),\n",
    "                                     nn.Sigmoid())\n",
    "        # why we use sigmoid? becaue the pixel values of images are in [0,1] and sigmoid(x) does just that!\n",
    "        # if you don't work with images, you don't have to use that.\n",
    "\n",
    "\n",
    "    def forward(self, x):\n",
    "        \"\"\"\n",
    "        This is the function called when doing the forward pass:\n",
    "        x_reconstruction = VaeDecoder(z)\n",
    "        \"\"\"\n",
    "        x = self.decoder(x)\n",
    "        return x\n",
    "    \n",
    "\n",
    "class Vae(torch.nn.Module):\n",
    "    def __init__(self, x_dim=28*28, z_dim=10, hidden_size=256, device=torch.device(\"cpu\")):\n",
    "        super(Vae, self).__init__()\n",
    "        self.device = device\n",
    "        self.z_dim = z_dim\n",
    "\n",
    "        self.encoder = VaeEncoder(x_dim, hidden_size, z_dim=z_dim, device=device)\n",
    "        self.decoder = VaeDecoder(x_dim, hidden_size, z_dim=z_dim)\n",
    "\n",
    "    def encode(self, x):\n",
    "        z, mu, logvar = self.encoder(x)\n",
    "        return z, mu, logvar\n",
    "\n",
    "    def decode(self, z):\n",
    "        x = self.decoder(z)\n",
    "        return x\n",
    "\n",
    "    def sample(self, num_samples=1):\n",
    "        \"\"\"\n",
    "        This functions generates new data by sampling random variables and decoding them.\n",
    "        Vae.sample() actually generatess new data!\n",
    "        Sample z ~ N(0,1)\n",
    "        \"\"\"\n",
    "        z = torch.randn(num_samples, self.z_dim).to(self.device)\n",
    "        return self.decode(z)\n",
    "\n",
    "    def forward(self, x):\n",
    "        \"\"\"\n",
    "        This is the function called when doing the forward pass:\n",
    "        return x_recon, mu, logvar, z = Vae(X)\n",
    "        \"\"\"\n",
    "        z, mu, logvar = self.encode(x)\n",
    "        x_recon = self.decode(z)\n",
    "        return x_recon, mu, logvar, z\n",
    "    \n",
    "\n",
    "def loss_function(recon_x, x, mu, logvar, loss_type='bce'):\n",
    "    \"\"\"\n",
    "    This function calculates the loss of the VAE.\n",
    "    loss = reconstruction_loss - 0.5 * sum(1 + log(sigma^2) - mu^2 - sigma^2)\n",
    "    :param recon_x: the reconstruction from the decoder\n",
    "    :param x: the original input\n",
    "    :param mu: the mean given X, from the encoder\n",
    "    :param logvar: the log-variance given X, from the encoder\n",
    "    :param loss_type: type of loss function - 'mse', 'l1', 'bce'\n",
    "    :return: VAE loss\n",
    "    \"\"\"\n",
    "    if loss_type == 'mse':\n",
    "        recon_error = F.mse_loss(recon_x, x, reduction='sum')\n",
    "    elif loss_type == 'l1':\n",
    "        recon_error = F.l1_loss(recon_x, x, reduction='sum')\n",
    "    elif loss_type == 'bce':\n",
    "        recon_error = F.binary_cross_entropy(recon_x, x, reduction='sum')\n",
    "    else:\n",
    "        raise NotImplementedError\n",
    "\n",
    "    # see Appendix B from VAE paper:\n",
    "    # Kingma and Welling. Auto-Encoding Variational Bayes. ICLR, 2014\n",
    "    # https://arxiv.org/abs/1312.6114\n",
    "    # 0.5 * sum(1 + log(sigma^2) - mu^2 - sigma^2)\n",
    "    kl = -0.5 * torch.sum(1 + logvar - mu.pow(2) - logvar.exp())\n",
    "    return (recon_error + kl) / x.size(0)"
   ]
  },
  {
   "cell_type": "markdown",
   "metadata": {},
   "source": [
    "### <img src=\"https://img.icons8.com/color/48/000000/code.png\" style=\"height:50px;display:inline\"> Task 1 - $\\beta$-VAE\n",
    "---\n",
    "In the standard VAE an isotropic Gaussian ($p(z) \\sim \\mathcal{N}(0, I)$) is typically assumed as the prior distribution for z. Note that under this distribution the components of z are independent (e.g. disentangled - a disentangled representation can be defined as one where single latent units are sensitive to changes in single generative factors, while being relatively invariant to changes in other factors) which is exactly the property we would like our approximate posterior distribution (e.g. $q(z|x)$) to have. Thus, to encourage independence we increase the KL-divergence term in the ELBO by a factor of $\\beta$: $$ \\mathcal{L}_{\\beta-VAE} = -\\mathbb{E}_{q_{\\phi(z|x)}}[p_{\\theta}(x|z)] + \\beta \\cdot D_{KL}[q_{\\theta}(z|x) || p(z)]  $$\n",
    "   * Training is performed exactly the same as for the standard VAE.\n",
    "   * When $\\beta=1$, it is same as VAE.\n",
    "   * When $\\beta>1$, it applies a stronger constraint on the latent bottleneck and limits the representation capacity of $z$. \n",
    "       * For some conditionally independent generative factors, keeping them disentangled is the most efficient representation.\n",
    "   * When $0<\\beta<1$, it can be interpreted as optimizing an approximate log marginal likelihood bound under an alternative prior, regularized to prevent degeneracy (of the KL-divergence).\n",
    "   \n",
    "The tasks:\n",
    "1. Modify the loss function to support $\\beta$-VAE. The function should return the reconstruction loss, the kl-divergence (**without the multiplication by $\\beta$**) and and the total loss.\n",
    "    * The signature of the function should be: `beta_loss_function(recon_x, x, mu, logvar, loss_type='bce', beta=1)`\n",
    "    * The reconstruction loss, the kl-divergence and and the total loss should be normalzied by the batch size.\n",
    "    * The returned reconstruction loss and kl-divergence should be converted to numpy: `kl_d.data.cpu().numpy()` (but only them, not the total loss)\n",
    "2. Load the MNIST dataset, as in the tutorial, and create a train loader.\n",
    "3. For $\\beta=[0.05, 0.5, 1, 5]$, train a $\\beta$-VAE for 50 epochs and keep track of:\n",
    "    * The average reconstruction loss in each epoch\n",
    "    * The average KL-divergence in each epoch\n",
    "    * A checkpoint of the network in the format: `beta_(value of beta)_vae_50_epochs.pth` (there is an example in the tutorial)\n",
    "        * NO NEED TO SUBMIT THE CHECKPOINTS, THEY ARE FOR YOU TO USE.\n",
    "    * This may take a while, so go grab a coffee in the meantime :)\n",
    "4. For $\\beta=[0.05, 0.5, 1, 5]$, plot the KL-divergence and reconstruction error vs. epochs.\n",
    "5. For $\\beta=[0.05, 0.5, 1, 5]$, generate 5 samples from the VAE and plot them (`imshow`...). Run this a couple of times to get an impression of the samples for each $\\beta$.\n",
    "\n",
    "\n",
    "* Notes:\n",
    "    * Be organized - separate to different code cells if it keeps you organized.\n",
    "    * Make sure to properly define the hyper-parameters (see tutorial), and define the `device` automatically. Don't forget to send all the models and tensors to the device. We will run your code on a GPU.\n",
    "    * If you are not satisfied with the results, and you have time, you can try and increase the number of epochs to 100, and see what happens."
   ]
  },
  {
   "cell_type": "code",
   "execution_count": 14,
   "outputs": [],
   "source": [
    "# Hyper-parameters:\n",
    "BATCH_SIZE = 128\n",
    "LEARNING_RATE = 1e-3\n",
    "NUM_EPOCHS = 50\n",
    "HIDDEN_SIZE = 256\n",
    "X_DIM = 28 * 28\n",
    "Z_DIM = 10"
   ],
   "metadata": {
    "collapsed": false,
    "pycharm": {
     "name": "#%%\n"
    }
   }
  },
  {
   "cell_type": "code",
   "execution_count": 6,
   "metadata": {},
   "outputs": [],
   "source": [
    "# new loss function:\n",
    "def beta_loss_function(recon_x, x, mu, logvar, loss_type='bce', beta=1):\n",
    "    if loss_type == 'mse':\n",
    "        recon_error = F.mse_loss(recon_x, x, reduction='sum')\n",
    "    elif loss_type == 'l1':\n",
    "        recon_error = F.l1_loss(recon_x, x, reduction='sum')\n",
    "    elif loss_type == 'bce':\n",
    "        recon_error = F.binary_cross_entropy(recon_x, x, reduction='sum')\n",
    "    else:\n",
    "        raise NotImplementedError\n",
    "\n",
    "    recon_error /= x.size(0)\n",
    "\n",
    "    kl = -0.5 * torch.sum(1 + logvar - mu.pow(2) - logvar.exp()) / x.size(0)\n",
    "\n",
    "    loss = (recon_error + beta * kl)\n",
    "    return recon_error.data.cpu().numpy(), kl.data.cpu().numpy(), loss\n"
   ]
  },
  {
   "cell_type": "code",
   "execution_count": 7,
   "outputs": [],
   "source": [
    "# loading the MNIST:\n",
    "transform = torchvision.transforms.ToTensor()\n",
    "train_data = torchvision.datasets.MNIST('./datasets/', train=True, transform=transform, target_transform=None, download=True)\n",
    "dataloader = DataLoader(train_data, batch_size=BATCH_SIZE, shuffle=True, drop_last=True)"
   ],
   "metadata": {
    "collapsed": false,
    "pycharm": {
     "name": "#%%\n"
    }
   }
  },
  {
   "cell_type": "markdown",
   "source": [
    "We can use the original VAE as beta-VAE, just need to use another loss"
   ],
   "metadata": {
    "collapsed": false,
    "pycharm": {
     "name": "#%% md\n"
    }
   }
  },
  {
   "cell_type": "code",
   "execution_count": 15,
   "outputs": [
    {
     "name": "stdout",
     "output_type": "stream",
     "text": [
      "running calculations on:  cuda:0\n"
     ]
    }
   ],
   "source": [
    "if torch.cuda.is_available():\n",
    "    torch.cuda.current_device()\n",
    "device = torch.device(\"cuda:0\" if torch.cuda.is_available() else \"cpu\")\n",
    "print(\"running calculations on: \", device)\n"
   ],
   "metadata": {
    "collapsed": false,
    "pycharm": {
     "name": "#%%\n"
    }
   }
  },
  {
   "cell_type": "code",
   "execution_count": 16,
   "outputs": [],
   "source": [
    "def train_vae(vae, dataloader, vae_optim, num_epochs=50, beta=1, checkpoint_freq=25):\n",
    "    dkl_losses = []\n",
    "    recon_losses = []\n",
    "\n",
    "    for epoch in range(num_epochs):\n",
    "        epoch_start_time = time.time()\n",
    "        batch_dkl = []\n",
    "        batch_recon_err = []\n",
    "        for batch_i, batch in enumerate(dataloader):\n",
    "            # forward pass\n",
    "            x = batch[0].to(device).view(-1, X_DIM) # just the images\n",
    "            x_recon, mu, logvar, z = vae(x)\n",
    "            recon_err, dkl, loss = beta_loss_function(x_recon, x, mu, logvar, beta=beta)\n",
    "\n",
    "            # optimization\n",
    "            vae_optim.zero_grad()\n",
    "            loss.backward()\n",
    "            vae_optim.step()\n",
    "\n",
    "            batch_dkl.append(dkl)\n",
    "            batch_recon_err.append(recon_err)\n",
    "\n",
    "            # save checkpoint:\n",
    "\n",
    "        dkl_losses.append(np.mean(batch_dkl))\n",
    "        recon_losses.append(np.mean(batch_recon_err))\n",
    "\n",
    "        if epoch % checkpoint_freq == 0:\n",
    "            fname = f\"./checkpoints/beta_{beta}_vae_{epoch}_epochs.pth\"\n",
    "            torch.save(vae.state_dict(), fname)\n",
    "            print(\"saved checkpoint @\", fname)\n",
    "\n",
    "        print(f\"epoch: {epoch} | dkl loss: {dkl_losses[-1] :.5f} | reconstruction loss: {recon_losses[-1] :.5f} | epoch time: {time.time() - epoch_start_time:.3f} sec\")\n",
    "\n",
    "    return recon_losses, dkl_losses"
   ],
   "metadata": {
    "collapsed": false,
    "pycharm": {
     "name": "#%%\n"
    }
   }
  },
  {
   "cell_type": "code",
   "execution_count": 18,
   "outputs": [
    {
     "name": "stdout",
     "output_type": "stream",
     "text": [
      "training beta-VAE with beta = 0.05\n",
      "saved checkpoint @ ./checkpoints/beta_0.05_vae_0_epochs.pth\n",
      "epoch: 0 | dkl loss: 58.20291 | reconstruction loss: 148.00781 | epoch time: 10.281 sec\n",
      "epoch: 1 | dkl loss: 59.63513 | reconstruction loss: 102.60115 | epoch time: 9.127 sec\n",
      "epoch: 2 | dkl loss: 55.26933 | reconstruction loss: 97.10178 | epoch time: 9.334 sec\n",
      "epoch: 3 | dkl loss: 52.54973 | reconstruction loss: 94.17563 | epoch time: 9.863 sec\n",
      "epoch: 4 | dkl loss: 50.92034 | reconstruction loss: 92.23451 | epoch time: 11.612 sec\n",
      "epoch: 5 | dkl loss: 49.63349 | reconstruction loss: 90.76412 | epoch time: 9.740 sec\n",
      "epoch: 6 | dkl loss: 48.66098 | reconstruction loss: 89.66670 | epoch time: 8.767 sec\n",
      "epoch: 7 | dkl loss: 47.57599 | reconstruction loss: 88.75964 | epoch time: 11.381 sec\n",
      "epoch: 8 | dkl loss: 46.89388 | reconstruction loss: 88.05077 | epoch time: 8.849 sec\n",
      "epoch: 9 | dkl loss: 46.14670 | reconstruction loss: 87.42164 | epoch time: 10.829 sec\n",
      "epoch: 10 | dkl loss: 45.60932 | reconstruction loss: 86.86473 | epoch time: 10.033 sec\n",
      "epoch: 11 | dkl loss: 45.13721 | reconstruction loss: 86.38450 | epoch time: 12.551 sec\n",
      "epoch: 12 | dkl loss: 44.70804 | reconstruction loss: 85.96561 | epoch time: 12.691 sec\n",
      "epoch: 13 | dkl loss: 44.24949 | reconstruction loss: 85.60033 | epoch time: 10.504 sec\n",
      "epoch: 14 | dkl loss: 43.97310 | reconstruction loss: 85.24405 | epoch time: 10.703 sec\n",
      "epoch: 15 | dkl loss: 43.60142 | reconstruction loss: 84.92143 | epoch time: 9.249 sec\n",
      "epoch: 16 | dkl loss: 43.29422 | reconstruction loss: 84.64291 | epoch time: 9.961 sec\n",
      "epoch: 17 | dkl loss: 43.01792 | reconstruction loss: 84.40864 | epoch time: 10.483 sec\n",
      "epoch: 18 | dkl loss: 42.79786 | reconstruction loss: 84.15685 | epoch time: 10.255 sec\n",
      "epoch: 19 | dkl loss: 42.58384 | reconstruction loss: 83.92743 | epoch time: 9.706 sec\n",
      "epoch: 20 | dkl loss: 42.35946 | reconstruction loss: 83.72399 | epoch time: 11.039 sec\n",
      "epoch: 21 | dkl loss: 42.11119 | reconstruction loss: 83.53592 | epoch time: 8.674 sec\n",
      "epoch: 22 | dkl loss: 41.97916 | reconstruction loss: 83.33857 | epoch time: 12.496 sec\n",
      "epoch: 23 | dkl loss: 41.78291 | reconstruction loss: 83.17959 | epoch time: 11.150 sec\n",
      "epoch: 24 | dkl loss: 41.73403 | reconstruction loss: 83.02544 | epoch time: 9.127 sec\n",
      "saved checkpoint @ ./checkpoints/beta_0.05_vae_25_epochs.pth\n",
      "epoch: 25 | dkl loss: 41.49582 | reconstruction loss: 82.86237 | epoch time: 9.467 sec\n",
      "epoch: 26 | dkl loss: 41.29697 | reconstruction loss: 82.71883 | epoch time: 9.780 sec\n",
      "epoch: 27 | dkl loss: 41.21786 | reconstruction loss: 82.58485 | epoch time: 12.323 sec\n",
      "epoch: 28 | dkl loss: 41.04346 | reconstruction loss: 82.45888 | epoch time: 12.928 sec\n",
      "epoch: 29 | dkl loss: 40.94415 | reconstruction loss: 82.34933 | epoch time: 11.147 sec\n",
      "epoch: 30 | dkl loss: 40.86921 | reconstruction loss: 82.21526 | epoch time: 12.373 sec\n",
      "epoch: 31 | dkl loss: 40.79428 | reconstruction loss: 82.14346 | epoch time: 11.965 sec\n",
      "epoch: 32 | dkl loss: 40.67746 | reconstruction loss: 82.00252 | epoch time: 10.221 sec\n",
      "epoch: 33 | dkl loss: 40.57955 | reconstruction loss: 81.90897 | epoch time: 9.343 sec\n",
      "epoch: 34 | dkl loss: 40.46315 | reconstruction loss: 81.82854 | epoch time: 8.378 sec\n",
      "epoch: 35 | dkl loss: 40.43015 | reconstruction loss: 81.73798 | epoch time: 8.801 sec\n",
      "epoch: 36 | dkl loss: 40.25398 | reconstruction loss: 81.64672 | epoch time: 10.797 sec\n",
      "epoch: 37 | dkl loss: 40.20872 | reconstruction loss: 81.56222 | epoch time: 13.266 sec\n",
      "epoch: 38 | dkl loss: 40.20457 | reconstruction loss: 81.48120 | epoch time: 10.710 sec\n",
      "epoch: 39 | dkl loss: 40.08345 | reconstruction loss: 81.42011 | epoch time: 9.692 sec\n",
      "epoch: 40 | dkl loss: 40.01165 | reconstruction loss: 81.33275 | epoch time: 8.353 sec\n",
      "epoch: 41 | dkl loss: 39.92586 | reconstruction loss: 81.27090 | epoch time: 8.280 sec\n",
      "epoch: 42 | dkl loss: 39.83204 | reconstruction loss: 81.20862 | epoch time: 8.376 sec\n",
      "epoch: 43 | dkl loss: 39.78890 | reconstruction loss: 81.13420 | epoch time: 8.308 sec\n",
      "epoch: 44 | dkl loss: 39.73407 | reconstruction loss: 81.06944 | epoch time: 8.389 sec\n",
      "epoch: 45 | dkl loss: 39.73043 | reconstruction loss: 81.01836 | epoch time: 8.448 sec\n",
      "epoch: 46 | dkl loss: 39.59837 | reconstruction loss: 80.94952 | epoch time: 9.489 sec\n",
      "epoch: 47 | dkl loss: 39.59815 | reconstruction loss: 80.90428 | epoch time: 8.410 sec\n",
      "epoch: 48 | dkl loss: 39.51886 | reconstruction loss: 80.83358 | epoch time: 8.529 sec\n",
      "epoch: 49 | dkl loss: 39.44526 | reconstruction loss: 80.79061 | epoch time: 8.512 sec\n",
      "Saved last model ./checkpoints/beta_0.05_final.pth\n",
      "training beta-VAE with beta = 0.5\n",
      "saved checkpoint @ ./checkpoints/beta_0.5_vae_0_epochs.pth\n",
      "epoch: 0 | dkl loss: 20.68544 | reconstruction loss: 150.43623 | epoch time: 8.529 sec\n",
      "epoch: 1 | dkl loss: 22.09207 | reconstruction loss: 107.24168 | epoch time: 8.503 sec\n",
      "epoch: 2 | dkl loss: 21.88334 | reconstruction loss: 101.60863 | epoch time: 8.479 sec\n",
      "epoch: 3 | dkl loss: 21.89027 | reconstruction loss: 98.57118 | epoch time: 11.674 sec\n",
      "epoch: 4 | dkl loss: 21.96684 | reconstruction loss: 96.53744 | epoch time: 8.414 sec\n",
      "epoch: 5 | dkl loss: 22.03911 | reconstruction loss: 95.03801 | epoch time: 8.823 sec\n",
      "epoch: 6 | dkl loss: 22.13972 | reconstruction loss: 93.85960 | epoch time: 8.652 sec\n",
      "epoch: 7 | dkl loss: 22.24882 | reconstruction loss: 92.91705 | epoch time: 8.884 sec\n",
      "epoch: 8 | dkl loss: 22.31947 | reconstruction loss: 92.12870 | epoch time: 8.624 sec\n",
      "epoch: 9 | dkl loss: 22.40302 | reconstruction loss: 91.47382 | epoch time: 9.259 sec\n",
      "epoch: 10 | dkl loss: 22.46896 | reconstruction loss: 90.90528 | epoch time: 8.917 sec\n",
      "epoch: 11 | dkl loss: 22.56300 | reconstruction loss: 90.40965 | epoch time: 8.651 sec\n",
      "epoch: 12 | dkl loss: 22.57738 | reconstruction loss: 89.95547 | epoch time: 8.620 sec\n",
      "epoch: 13 | dkl loss: 22.65586 | reconstruction loss: 89.55090 | epoch time: 9.280 sec\n",
      "epoch: 14 | dkl loss: 22.69001 | reconstruction loss: 89.21561 | epoch time: 10.209 sec\n",
      "epoch: 15 | dkl loss: 22.73295 | reconstruction loss: 88.86201 | epoch time: 8.640 sec\n",
      "epoch: 16 | dkl loss: 22.76676 | reconstruction loss: 88.53447 | epoch time: 11.464 sec\n",
      "epoch: 17 | dkl loss: 22.82249 | reconstruction loss: 88.24541 | epoch time: 10.266 sec\n",
      "epoch: 18 | dkl loss: 22.83601 | reconstruction loss: 88.01579 | epoch time: 9.336 sec\n",
      "epoch: 19 | dkl loss: 22.88976 | reconstruction loss: 87.75816 | epoch time: 8.475 sec\n",
      "epoch: 20 | dkl loss: 22.88565 | reconstruction loss: 87.53706 | epoch time: 8.611 sec\n",
      "epoch: 21 | dkl loss: 22.91712 | reconstruction loss: 87.32173 | epoch time: 8.691 sec\n",
      "epoch: 22 | dkl loss: 22.97724 | reconstruction loss: 87.14239 | epoch time: 9.585 sec\n",
      "epoch: 23 | dkl loss: 22.96852 | reconstruction loss: 86.92907 | epoch time: 8.781 sec\n",
      "epoch: 24 | dkl loss: 22.98842 | reconstruction loss: 86.76085 | epoch time: 8.599 sec\n",
      "saved checkpoint @ ./checkpoints/beta_0.5_vae_25_epochs.pth\n",
      "epoch: 25 | dkl loss: 23.01928 | reconstruction loss: 86.61352 | epoch time: 8.597 sec\n",
      "epoch: 26 | dkl loss: 23.05905 | reconstruction loss: 86.47160 | epoch time: 8.566 sec\n",
      "epoch: 27 | dkl loss: 23.03611 | reconstruction loss: 86.31584 | epoch time: 8.562 sec\n",
      "epoch: 28 | dkl loss: 23.04202 | reconstruction loss: 86.17543 | epoch time: 8.682 sec\n",
      "epoch: 29 | dkl loss: 23.09908 | reconstruction loss: 86.06442 | epoch time: 9.644 sec\n",
      "epoch: 30 | dkl loss: 23.09493 | reconstruction loss: 85.92655 | epoch time: 8.806 sec\n",
      "epoch: 31 | dkl loss: 23.12216 | reconstruction loss: 85.81661 | epoch time: 8.738 sec\n",
      "epoch: 32 | dkl loss: 23.12446 | reconstruction loss: 85.70207 | epoch time: 8.706 sec\n",
      "epoch: 33 | dkl loss: 23.13684 | reconstruction loss: 85.56799 | epoch time: 9.627 sec\n",
      "epoch: 34 | dkl loss: 23.14208 | reconstruction loss: 85.50326 | epoch time: 9.775 sec\n",
      "epoch: 35 | dkl loss: 23.16881 | reconstruction loss: 85.36131 | epoch time: 9.729 sec\n",
      "epoch: 36 | dkl loss: 23.17712 | reconstruction loss: 85.31532 | epoch time: 9.605 sec\n",
      "epoch: 37 | dkl loss: 23.18567 | reconstruction loss: 85.18605 | epoch time: 11.113 sec\n",
      "epoch: 38 | dkl loss: 23.19999 | reconstruction loss: 85.10263 | epoch time: 9.487 sec\n",
      "epoch: 39 | dkl loss: 23.20529 | reconstruction loss: 85.04288 | epoch time: 9.128 sec\n",
      "epoch: 40 | dkl loss: 23.20692 | reconstruction loss: 84.94569 | epoch time: 9.229 sec\n",
      "epoch: 41 | dkl loss: 23.22924 | reconstruction loss: 84.87031 | epoch time: 9.628 sec\n",
      "epoch: 42 | dkl loss: 23.27835 | reconstruction loss: 84.81474 | epoch time: 10.057 sec\n",
      "epoch: 43 | dkl loss: 23.25075 | reconstruction loss: 84.69887 | epoch time: 9.366 sec\n",
      "epoch: 44 | dkl loss: 23.26784 | reconstruction loss: 84.65189 | epoch time: 9.478 sec\n",
      "epoch: 45 | dkl loss: 23.25877 | reconstruction loss: 84.61649 | epoch time: 9.039 sec\n",
      "epoch: 46 | dkl loss: 23.26948 | reconstruction loss: 84.51389 | epoch time: 11.828 sec\n",
      "epoch: 47 | dkl loss: 23.28098 | reconstruction loss: 84.46319 | epoch time: 11.578 sec\n",
      "epoch: 48 | dkl loss: 23.29414 | reconstruction loss: 84.40372 | epoch time: 12.621 sec\n",
      "epoch: 49 | dkl loss: 23.28044 | reconstruction loss: 84.33335 | epoch time: 10.572 sec\n",
      "Saved last model ./checkpoints/beta_0.5_final.pth\n",
      "training beta-VAE with beta = 1\n",
      "saved checkpoint @ ./checkpoints/beta_1_vae_0_epochs.pth\n",
      "epoch: 0 | dkl loss: 13.63658 | reconstruction loss: 157.54887 | epoch time: 14.735 sec\n",
      "epoch: 1 | dkl loss: 16.46502 | reconstruction loss: 111.96571 | epoch time: 14.029 sec\n",
      "epoch: 2 | dkl loss: 16.85237 | reconstruction loss: 105.42054 | epoch time: 15.853 sec\n",
      "epoch: 3 | dkl loss: 17.11079 | reconstruction loss: 102.23645 | epoch time: 12.658 sec\n",
      "epoch: 4 | dkl loss: 17.30274 | reconstruction loss: 100.20987 | epoch time: 10.088 sec\n",
      "epoch: 5 | dkl loss: 17.44860 | reconstruction loss: 98.73429 | epoch time: 10.227 sec\n",
      "epoch: 6 | dkl loss: 17.57808 | reconstruction loss: 97.57161 | epoch time: 10.994 sec\n",
      "epoch: 7 | dkl loss: 17.70181 | reconstruction loss: 96.65810 | epoch time: 10.262 sec\n",
      "epoch: 8 | dkl loss: 17.80310 | reconstruction loss: 95.90211 | epoch time: 11.257 sec\n",
      "epoch: 9 | dkl loss: 17.88766 | reconstruction loss: 95.26609 | epoch time: 10.326 sec\n",
      "epoch: 10 | dkl loss: 17.94108 | reconstruction loss: 94.71252 | epoch time: 9.122 sec\n",
      "epoch: 11 | dkl loss: 18.02584 | reconstruction loss: 94.24382 | epoch time: 10.011 sec\n",
      "epoch: 12 | dkl loss: 18.05865 | reconstruction loss: 93.76827 | epoch time: 12.873 sec\n",
      "epoch: 13 | dkl loss: 18.12805 | reconstruction loss: 93.37573 | epoch time: 10.354 sec\n",
      "epoch: 14 | dkl loss: 18.16501 | reconstruction loss: 93.03152 | epoch time: 10.519 sec\n",
      "epoch: 15 | dkl loss: 18.19655 | reconstruction loss: 92.68082 | epoch time: 8.646 sec\n",
      "epoch: 16 | dkl loss: 18.24792 | reconstruction loss: 92.37216 | epoch time: 8.372 sec\n",
      "epoch: 17 | dkl loss: 18.26378 | reconstruction loss: 92.14677 | epoch time: 8.467 sec\n",
      "epoch: 18 | dkl loss: 18.32546 | reconstruction loss: 91.83630 | epoch time: 9.885 sec\n",
      "epoch: 19 | dkl loss: 18.32079 | reconstruction loss: 91.59994 | epoch time: 9.250 sec\n",
      "epoch: 20 | dkl loss: 18.37178 | reconstruction loss: 91.39510 | epoch time: 14.490 sec\n",
      "epoch: 21 | dkl loss: 18.37215 | reconstruction loss: 91.15511 | epoch time: 11.402 sec\n",
      "epoch: 22 | dkl loss: 18.38914 | reconstruction loss: 90.95567 | epoch time: 12.560 sec\n",
      "epoch: 23 | dkl loss: 18.41706 | reconstruction loss: 90.77029 | epoch time: 11.255 sec\n",
      "epoch: 24 | dkl loss: 18.42302 | reconstruction loss: 90.61398 | epoch time: 10.860 sec\n",
      "saved checkpoint @ ./checkpoints/beta_1_vae_25_epochs.pth\n",
      "epoch: 25 | dkl loss: 18.43648 | reconstruction loss: 90.41710 | epoch time: 10.046 sec\n",
      "epoch: 26 | dkl loss: 18.46897 | reconstruction loss: 90.30440 | epoch time: 9.907 sec\n",
      "epoch: 27 | dkl loss: 18.46205 | reconstruction loss: 90.13937 | epoch time: 11.115 sec\n",
      "epoch: 28 | dkl loss: 18.48333 | reconstruction loss: 89.99367 | epoch time: 13.148 sec\n",
      "epoch: 29 | dkl loss: 18.50272 | reconstruction loss: 89.88264 | epoch time: 10.687 sec\n",
      "epoch: 30 | dkl loss: 18.50767 | reconstruction loss: 89.72476 | epoch time: 10.077 sec\n",
      "epoch: 31 | dkl loss: 18.53517 | reconstruction loss: 89.61789 | epoch time: 9.646 sec\n",
      "epoch: 32 | dkl loss: 18.53703 | reconstruction loss: 89.50623 | epoch time: 9.428 sec\n",
      "epoch: 33 | dkl loss: 18.55194 | reconstruction loss: 89.41478 | epoch time: 9.706 sec\n",
      "epoch: 34 | dkl loss: 18.56793 | reconstruction loss: 89.29144 | epoch time: 11.375 sec\n",
      "epoch: 35 | dkl loss: 18.56534 | reconstruction loss: 89.19348 | epoch time: 10.224 sec\n",
      "epoch: 36 | dkl loss: 18.56541 | reconstruction loss: 89.09791 | epoch time: 11.496 sec\n",
      "epoch: 37 | dkl loss: 18.58796 | reconstruction loss: 89.00421 | epoch time: 9.717 sec\n",
      "epoch: 38 | dkl loss: 18.61647 | reconstruction loss: 88.92717 | epoch time: 10.211 sec\n",
      "epoch: 39 | dkl loss: 18.60574 | reconstruction loss: 88.83741 | epoch time: 11.109 sec\n",
      "epoch: 40 | dkl loss: 18.60582 | reconstruction loss: 88.76047 | epoch time: 10.440 sec\n",
      "epoch: 41 | dkl loss: 18.63497 | reconstruction loss: 88.67250 | epoch time: 10.321 sec\n",
      "epoch: 42 | dkl loss: 18.63752 | reconstruction loss: 88.57542 | epoch time: 11.029 sec\n",
      "epoch: 43 | dkl loss: 18.63824 | reconstruction loss: 88.50170 | epoch time: 10.928 sec\n",
      "epoch: 44 | dkl loss: 18.65516 | reconstruction loss: 88.42760 | epoch time: 10.737 sec\n",
      "epoch: 45 | dkl loss: 18.66485 | reconstruction loss: 88.37802 | epoch time: 11.223 sec\n",
      "epoch: 46 | dkl loss: 18.68208 | reconstruction loss: 88.30777 | epoch time: 11.583 sec\n",
      "epoch: 47 | dkl loss: 18.67725 | reconstruction loss: 88.25100 | epoch time: 12.086 sec\n",
      "epoch: 48 | dkl loss: 18.71145 | reconstruction loss: 88.18457 | epoch time: 11.250 sec\n",
      "epoch: 49 | dkl loss: 18.69535 | reconstruction loss: 88.13522 | epoch time: 13.165 sec\n",
      "Saved last model ./checkpoints/beta_1_final.pth\n",
      "training beta-VAE with beta = 5\n",
      "saved checkpoint @ ./checkpoints/beta_5_vae_0_epochs.pth\n",
      "epoch: 0 | dkl loss: 3.43696 | reconstruction loss: 185.11859 | epoch time: 10.968 sec\n",
      "epoch: 1 | dkl loss: 5.56826 | reconstruction loss: 143.24866 | epoch time: 11.222 sec\n",
      "epoch: 2 | dkl loss: 6.34109 | reconstruction loss: 134.24838 | epoch time: 13.230 sec\n",
      "epoch: 3 | dkl loss: 6.70034 | reconstruction loss: 130.27596 | epoch time: 12.144 sec\n",
      "epoch: 4 | dkl loss: 6.89905 | reconstruction loss: 127.93935 | epoch time: 12.944 sec\n",
      "epoch: 5 | dkl loss: 7.03243 | reconstruction loss: 126.35790 | epoch time: 11.298 sec\n",
      "epoch: 6 | dkl loss: 7.13288 | reconstruction loss: 125.17502 | epoch time: 13.178 sec\n",
      "epoch: 7 | dkl loss: 7.21739 | reconstruction loss: 124.27142 | epoch time: 11.335 sec\n",
      "epoch: 8 | dkl loss: 7.26676 | reconstruction loss: 123.59156 | epoch time: 9.156 sec\n",
      "epoch: 9 | dkl loss: 7.31138 | reconstruction loss: 122.87767 | epoch time: 9.965 sec\n",
      "epoch: 10 | dkl loss: 7.37431 | reconstruction loss: 122.30057 | epoch time: 10.749 sec\n",
      "epoch: 11 | dkl loss: 7.40369 | reconstruction loss: 121.80177 | epoch time: 9.112 sec\n",
      "epoch: 12 | dkl loss: 7.42696 | reconstruction loss: 121.31604 | epoch time: 8.961 sec\n",
      "epoch: 13 | dkl loss: 7.45668 | reconstruction loss: 120.90464 | epoch time: 9.922 sec\n",
      "epoch: 14 | dkl loss: 7.46388 | reconstruction loss: 120.56055 | epoch time: 9.070 sec\n",
      "epoch: 15 | dkl loss: 7.49713 | reconstruction loss: 120.20261 | epoch time: 9.539 sec\n",
      "epoch: 16 | dkl loss: 7.51073 | reconstruction loss: 119.89275 | epoch time: 9.290 sec\n",
      "epoch: 17 | dkl loss: 7.53082 | reconstruction loss: 119.63068 | epoch time: 9.079 sec\n",
      "epoch: 18 | dkl loss: 7.56126 | reconstruction loss: 119.35173 | epoch time: 9.219 sec\n",
      "epoch: 19 | dkl loss: 7.56266 | reconstruction loss: 119.13537 | epoch time: 9.998 sec\n",
      "epoch: 20 | dkl loss: 7.58880 | reconstruction loss: 118.90175 | epoch time: 9.254 sec\n",
      "epoch: 21 | dkl loss: 7.60258 | reconstruction loss: 118.68715 | epoch time: 8.821 sec\n",
      "epoch: 22 | dkl loss: 7.60354 | reconstruction loss: 118.48729 | epoch time: 9.120 sec\n",
      "epoch: 23 | dkl loss: 7.63136 | reconstruction loss: 118.25233 | epoch time: 9.770 sec\n",
      "epoch: 24 | dkl loss: 7.61322 | reconstruction loss: 118.10851 | epoch time: 10.162 sec\n",
      "saved checkpoint @ ./checkpoints/beta_5_vae_25_epochs.pth\n",
      "epoch: 25 | dkl loss: 7.65250 | reconstruction loss: 117.97171 | epoch time: 10.572 sec\n",
      "epoch: 26 | dkl loss: 7.66224 | reconstruction loss: 117.77497 | epoch time: 11.917 sec\n",
      "epoch: 27 | dkl loss: 7.68825 | reconstruction loss: 117.64477 | epoch time: 10.555 sec\n",
      "epoch: 28 | dkl loss: 7.66899 | reconstruction loss: 117.52902 | epoch time: 10.851 sec\n",
      "epoch: 29 | dkl loss: 7.69082 | reconstruction loss: 117.39767 | epoch time: 10.609 sec\n",
      "epoch: 30 | dkl loss: 7.70336 | reconstruction loss: 117.30167 | epoch time: 9.769 sec\n",
      "epoch: 31 | dkl loss: 7.71038 | reconstruction loss: 117.20542 | epoch time: 10.293 sec\n",
      "epoch: 32 | dkl loss: 7.69866 | reconstruction loss: 117.11015 | epoch time: 9.869 sec\n",
      "epoch: 33 | dkl loss: 7.71834 | reconstruction loss: 116.97468 | epoch time: 12.584 sec\n",
      "epoch: 34 | dkl loss: 7.74490 | reconstruction loss: 116.89717 | epoch time: 9.395 sec\n",
      "epoch: 35 | dkl loss: 7.74285 | reconstruction loss: 116.77445 | epoch time: 9.336 sec\n",
      "epoch: 36 | dkl loss: 7.72486 | reconstruction loss: 116.72027 | epoch time: 9.108 sec\n",
      "epoch: 37 | dkl loss: 7.72803 | reconstruction loss: 116.61869 | epoch time: 11.060 sec\n",
      "epoch: 38 | dkl loss: 7.73979 | reconstruction loss: 116.53889 | epoch time: 9.787 sec\n",
      "epoch: 39 | dkl loss: 7.74378 | reconstruction loss: 116.45077 | epoch time: 9.052 sec\n",
      "epoch: 40 | dkl loss: 7.74244 | reconstruction loss: 116.37659 | epoch time: 8.891 sec\n",
      "epoch: 41 | dkl loss: 7.77336 | reconstruction loss: 116.25449 | epoch time: 8.830 sec\n",
      "epoch: 42 | dkl loss: 7.76587 | reconstruction loss: 116.24893 | epoch time: 11.195 sec\n",
      "epoch: 43 | dkl loss: 7.77030 | reconstruction loss: 116.21297 | epoch time: 12.173 sec\n",
      "epoch: 44 | dkl loss: 7.77153 | reconstruction loss: 116.11189 | epoch time: 9.058 sec\n",
      "epoch: 45 | dkl loss: 7.78965 | reconstruction loss: 116.08035 | epoch time: 8.779 sec\n",
      "epoch: 46 | dkl loss: 7.77129 | reconstruction loss: 116.00838 | epoch time: 8.842 sec\n",
      "epoch: 47 | dkl loss: 7.78719 | reconstruction loss: 115.99056 | epoch time: 8.830 sec\n",
      "epoch: 48 | dkl loss: 7.78560 | reconstruction loss: 115.94904 | epoch time: 8.874 sec\n",
      "epoch: 49 | dkl loss: 7.77662 | reconstruction loss: 115.84701 | epoch time: 8.898 sec\n",
      "Saved last model ./checkpoints/beta_5_final.pth\n"
     ]
    }
   ],
   "source": [
    "betas = [0.05, 0.5, 1, 5]\n",
    "\n",
    "results = []\n",
    "for beta in betas:\n",
    "    vae = Vae(x_dim=X_DIM, z_dim=Z_DIM, hidden_size=HIDDEN_SIZE, device=device).to(device)\n",
    "    vae_optim = torch.optim.Adam(params=vae.parameters(), lr=LEARNING_RATE)\n",
    "\n",
    "    print(\"training beta-VAE with beta =\", beta)\n",
    "\n",
    "    recon_losses, dkl_losses = train_vae(vae, dataloader, vae_optim, num_epochs=NUM_EPOCHS, beta=beta)\n",
    "    results.append((recon_losses, dkl_losses))\n",
    "\n",
    "    fname = f\"./checkpoints/beta_{beta}_final.pth\"\n",
    "    torch.save(vae.state_dict(), fname)\n",
    "    print(\"Saved last model\", fname)\n"
   ],
   "metadata": {
    "collapsed": false,
    "pycharm": {
     "name": "#%%\n"
    }
   }
  },
  {
   "cell_type": "code",
   "execution_count": 20,
   "outputs": [
    {
     "data": {
      "text/plain": "<Figure size 720x720 with 4 Axes>",
      "image/png": "[encoded data removed]"
     },
     "metadata": {
      "needs_background": "light"
     },
     "output_type": "display_data"
    }
   ],
   "source": [
    "# plot results\n",
    "fig, axs = plt.subplots(2, 2, figsize=(10, 10))\n",
    "axs[0, 0].plot(results[0][0], label='reconstruction_loss')\n",
    "axs[0, 0].plot(results[0][1], label='dkl_loss')\n",
    "axs[0, 0].set_title(f'Beta = {betas[0]}')\n",
    "\n",
    "axs[0, 1].plot(results[1][0], label='reconstruction_loss')\n",
    "axs[0, 1].plot(results[1][1], label='dkl_loss')\n",
    "axs[0, 1].set_title(f'Beta = {betas[1]}')\n",
    "\n",
    "axs[1, 0].plot(results[2][0], label='reconstruction_loss')\n",
    "axs[1, 0].plot(results[2][1], label='dkl_loss')\n",
    "axs[1, 0].set_title(f'Beta = {betas[2]}')\n",
    "\n",
    "axs[1, 1].plot(results[3][0], label='reconstruction_loss')\n",
    "axs[1, 1].plot(results[3][1], label='dkl_loss')\n",
    "axs[1, 1].set_title(f'Beta = {betas[3]}')\n",
    "\n",
    "\n",
    "for ax in axs.flat:\n",
    "    ax.set(xlabel='epoch', ylabel='loss')\n",
    "    ax.legend()\n",
    "    ax.set_xlim(0,50)\n",
    "    ax.set_ylim(0, 170)\n"
   ],
   "metadata": {
    "collapsed": false,
    "pycharm": {
     "name": "#%%\n"
    }
   }
  },
  {
   "cell_type": "code",
   "execution_count": null,
   "outputs": [],
   "source": [
    "def display_model_results(model_path ,num_images=5):\n",
    "    vae = Vae(x_dim=X_DIM, z_dim=Z_DIM, hidden_size=HIDDEN_SIZE, device=device).to(device)\n",
    "    vae.load_state_dict(torch.load(model_path))\n",
    "    vae.eval()\n",
    "\n",
    "    with torch.no_grad():\n",
    "        vae_samples = vae.sample(num_samples=num_images).view(num_images, 28, 28).data.cpu().numpy()\n",
    "        fig = plt.figure(figsize=(8 ,5))\n",
    "        for i in range(num_images):\n",
    "            ax = fig.add_subplot(2, 3, i + 1)\n",
    "            ax.imshow(vae_samples[i], cmap='gray')\n",
    "            ax.set_axis_off()"
   ],
   "metadata": {
    "collapsed": false,
    "pycharm": {
     "name": "#%%\n"
    }
   }
  },
  {
   "cell_type": "code",
   "execution_count": 38,
   "outputs": [
    {
     "data": {
      "text/plain": "<Figure size 576x360 with 5 Axes>",
      "image/png": "[encoded data removed]"
     },
     "metadata": {
      "needs_background": "light"
     },
     "output_type": "display_data"
    }
   ],
   "source": [
    "display_model_results(\"checkpoints/beta_0.05_final.pth\")"
   ],
   "metadata": {
    "collapsed": false,
    "pycharm": {
     "name": "#%%\n"
    }
   }
  },
  {
   "cell_type": "code",
   "execution_count": 23,
   "outputs": [
    {
     "data": {
      "text/plain": "<Figure size 576x360 with 5 Axes>",
      "image/png": "[encoded data removed]"
     },
     "metadata": {
      "needs_background": "light"
     },
     "output_type": "display_data"
    }
   ],
   "source": [
    "display_model_results(\"checkpoints/beta_0.5_final.pth\")"
   ],
   "metadata": {
    "collapsed": false,
    "pycharm": {
     "name": "#%%\n"
    }
   }
  },
  {
   "cell_type": "code",
   "execution_count": 24,
   "outputs": [
    {
     "data": {
      "text/plain": "<Figure size 576x360 with 5 Axes>",
      "image/png": "[encoded data removed]"
     },
     "metadata": {
      "needs_background": "light"
     },
     "output_type": "display_data"
    }
   ],
   "source": [
    "display_model_results(\"checkpoints/beta_1_final.pth\")"
   ],
   "metadata": {
    "collapsed": false,
    "pycharm": {
     "name": "#%%\n"
    }
   }
  },
  {
   "cell_type": "code",
   "execution_count": 29,
   "outputs": [
    {
     "data": {
      "text/plain": "<Figure size 576x360 with 5 Axes>",
      "image/png": "[encoded data removed]"
     },
     "metadata": {
      "needs_background": "light"
     },
     "output_type": "display_data"
    }
   ],
   "source": [
    "display_model_results(\"checkpoints/beta_5_final.pth\")"
   ],
   "metadata": {
    "collapsed": false,
    "pycharm": {
     "name": "#%%\n"
    }
   }
  },
  {
   "cell_type": "markdown",
   "metadata": {},
   "source": [
    "### <img src=\"https://img.icons8.com/bubbles/48/000000/ask-question.png\" style=\"height:50px;display:inline\"> Question 1 - $\\beta$-VAE\n",
    "---\n",
    "We will now analyze the results. Answer the following questions:\n",
    "1. Explain intuitively the loss function of $\\beta$-VAE. In your answer, explain the trade-off between the reconstruction loss and the KL-divergence and how it is affected by the $\\beta$ parameter. Hint: think about regularization as you learned in the ML course (for example, in linear regression).\n",
    "2. What is the main trend in the KL and reconstruction loss vs. epochs? In your answer, you should compare between the $\\beta$'s.\n",
    "3. For what values of $\\beta$ you would expect better reconstruction (why would we want better reconstruction?) and for what values you would expect higher-quality samples? In your answer, refer to the blurriness in the samples you plotted.\n",
    "4. Run the cell where you plot the samples (if you separated the cells for each $\\beta$, then run all of them) a couple of times (just hit Ctrl + Enter). For which value of $\\beta$ there is more *diversity* in the samples? (i.e., if out of 6 samples you get four 9's, it is not diverse)."
   ]
  },
  {
   "cell_type": "markdown",
   "source": [
    "# Q1 Answers:\n",
    "\n",
    "## 1\n",
    "The loss is a weighted sum of the:\n",
    " - reconstruction error : how similar the output image is to the input\n",
    " - KL divergence : how much the distribution of the latent space is different from the prior\n",
    "\n",
    "We would like to minimize the first one in order for the vae to learn to reconstruct the input, and minimize the second one in order to make the latent space as close as possible to the prior, a.k.a isotropic gaussian.\n",
    "The KL divergence can be seen as a regularization term for the reconstruction loss which is the actual loss function.\n",
    "\n",
    "The $\\beta$ parameter is used to control the trade-off between the reconstruction loss and the KL divergence.\n",
    "\n",
    "## 2\n",
    "Both parts of the losses should be decreasing with the number of epochs, as the optimizer tries to optimize them both, but higher betas make the KL term in the loss more important as it takes larger part of the overall loss. Lower betas makes the reconstruction loss more important as it takes more part of the overall loss.\n",
    "The higher weight for either parts of the loss, the faster this part decays.\n",
    "\n",
    "In practice, the KL term is not really descending, it is almost flat.\n",
    "\n",
    "## 3\n",
    "For better reconstruction, we, of course, want to give higher weight to the reconstruction loss, which means we want lower beta. We want better reconstruction of the train set, to verify that the model learned the correct distribution of the data, so it will be able to generate similar samples.\n",
    "For better image quality, we would like higher values of beta, because when we sample, we assume that the distribution of the latent space is close to the prior, if this is not correct, we would sample too far from the distribution of the latent space.\n",
    "We can indeed see that for higher betas, the images are sharper, because the model managed to make the distribution of z close to the prior (normal).\n",
    "\n",
    "## 4\n",
    "The higher the beta, the less weight for the reconstruction loss, which means we have lower reconstruction loss and the model learns to imitate the images it was trained on, this is why we get less diverse results for low beta.\n"
   ],
   "metadata": {
    "collapsed": false,
    "pycharm": {
     "name": "#%% md\n"
    }
   }
  },
  {
   "cell_type": "markdown",
   "metadata": {},
   "source": [
    "### <img src=\"https://img.icons8.com/color/48/000000/code.png\" style=\"height:50px;display:inline\"> Task 2 - Conditional VAE (CVAE)\n",
    "---\n",
    "Conditional Variational Autoencoder (CVAE) is an extension of Variational Autoencoder (VAE).\n",
    "However, as you may have noticed, we have no control on the data generation process on VAE. That is, for example, on MNIST, we could not control the latent space, and when we sampled, we would not know what digit would be generated. This could be problematic if we want to generate some specific data. As an example, suppose we want to convert a unicode character to handwriting. In vanilla VAE, there is no way to generate the handwriting based on the character that the user inputted. Concretely, suppose the user inputted character ‘2’, how do we generate handwriting image that is a character ‘2’? We couldn’t.\n",
    "\n",
    "Hence, CVAE was developed. Whereas VAE essentially models latent variables and data directly, CVAE models lantent variables and data, both conditioned to some random variables.\n",
    "Recall, on VAE, the objective is:\n",
    "$$\\log P(X) -  D_{KL}[Q(z|X) || P(z|X)]  =  \\mathbb{E}_{Q(z|X)}[\\log P(X|z)] -D_{KL}[Q(z|X)|| P(z)]  $$\n",
    "that is, we want to optimize the log likelihood of our data $P(X)$ under some “encoding” error. The original VAE model has two parts: the encoder $Q(x|Z)$ and the decoder $P(X|z)$.\n",
    "\n",
    "If we focus on the encoder, it models the latent variable $z$ directly based on $X$, and it doesn't care about the different types of $X$ (e.g., it doesn't care if it is 1 or an 8). But wait, this was all the idea of **unsupervised learning**, we have no access to labels. Well, in this case, we have some information (thus, CVAE is sometimes referred to as **semi-supervised** learning model).\n",
    "\n",
    "Similarly, in the decoder part, it only models $X$ directly based on the latent variable $z$. So, how do we tell the VAE what we want to generate? We can condition encoder and decoder to another things, let's denote them with $c$ (for \"condition\").\n",
    "\n",
    "* The encoder is now conditioned on 2 variables- $X, c$: $Q(z|X,c)$ and the decoder in now conditioned on- $z$, $c$: $P(X|z,c)$\n",
    "* Hence, our variational lower bound objective is now in this following form: $$ \\log P(X|c) -  D_{KL}[Q(z|X,c) || P(z|X,c)]  =  \\mathbb{E}_{Q(z|X,c)}[\\log P(X|z,c)] -D_{KL}[Q(z|X,c)|| P(z|c)] $$ (we just conditioned all of the distributions with a variable $c$)\n",
    "* So what is different? Almost nothing! We still model $P(z|c) \\sim \\mathcal{N}(0,I)$, and the rest are modeled by the neural network.\n",
    "* But how is it done in practice? Simple! **Concatenation**: instead of encoding $X$, we encoded $[X,c]$, that is, we concatenate them. Same for the decoder: we take the latent variable $z$ and concatenate with $c$ and then the input of the decoder is $[z,c]$.\n",
    "* In PyTorch, we concatenate with `x = torch.cat([x, x_cond], dim=1)` (the 0 dimension is the batch dimension).\n",
    "\n",
    "The tasks:\n",
    "* Load the Fashion-MNIST dataset, as in the tuorial, and create a train loader. Note that you get both the images and their **labels**.\n",
    "* The labels are the classes (0-9). In order to use them in the network we need to convert them to one-hot vectors (0 -> [1,0,0,0,0,0,0,0,0,0], 1 -> [0,1,0,0,0,0,0,0,0,0] ...). The length of the one hot vector in as the number of classes. You are given a function that converts ints to one-hot vectors, use it on the labels, before you perform the concatenation.\n",
    "* Modify the VAE architecture to support conditionals.\n",
    "    * Copy-paste the skeleton (the original VAE, from the begining of the tutorial), and just modify the current functions. Note that there **are very few** changes needed.\n",
    "    * Here are some tips, but feel free to implement as you wish, as long as it works:\n",
    "        * In Python, you can let a function input be `None`, and then if the user inputs something that is not `None`, the function would act different. Here is an example: `def encode(x, x_cond=None): if x_cond is not None: ...`\n",
    "        * Here are the parts that we recommend you change:\n",
    "            * In the Vae module:\n",
    "                * `def __init__(self, x_dim=28*28, z_dim=10, hidden_size=256, device=torch.device(\"cpu\"), cond_dim=None)`\n",
    "                * `def sample(self, num_samples=1, x_cond=None)`\n",
    "                * `def forward(self, x, x_cond=None)`\n",
    "            * Note that these are the minimal changes that can be done to implement VAE that supports CVAE. No need to modify VaeEncoder and VaeDecoder when we are using fully-connected layers. However, if we were to use convolutional layers, we would have to change also the encoder and decoder since convolutional layers work on images, and only after the images features from the convolutional layers have been extracted, we would concatenate the the condional $c$ (just before the fully-connected layers that output $\\mu, \\sigma$.\n",
    "* Train CVAE on the Fashion-MNIST dataset (100 epochs, at least). Use $\\beta$-VAE loss function (it shouldn't have changed from the regular VAE. Save a checkpoint of the network in the format: `fmnist_beta_(value of beta)_cvae_(number of epochs)_epochs.pth`. The rest of the hyper-parameters are up to you.\n",
    "* Plot $n_{samples}=6$ from the CVAE for 6 classes of your choosing.\n",
    "* **Tip**: this may take a while, so if everything seems to work, let it run on Google Colab and go grab another coffee."
   ]
  },
  {
   "cell_type": "code",
   "execution_count": 39,
   "metadata": {},
   "outputs": [],
   "source": [
    "def labels_to_one_hots(batch, num_classes=10):\n",
    "    \"\"\"\n",
    "    Converts batch of integes numbers to one-hot vector given the vector length\n",
    "    :param batch: batch of values to convert\n",
    "    :param num_classes: length of the vector\n",
    "    :return: one_hot_batch\n",
    "    \"\"\"\n",
    "    one_hot_batch = torch.zeros(batch.size(0), num_classes).to(batch.device)\n",
    "    for i in range(batch.size(0)):\n",
    "        one_hot_batch[i, int(batch[i].data.cpu().item())] = 1\n",
    "    return one_hot_batch"
   ]
  },
  {
   "cell_type": "code",
   "execution_count": 40,
   "metadata": {},
   "outputs": [
    {
     "name": "stdout",
     "output_type": "stream",
     "text": [
      "Downloading http://fashion-mnist.s3-website.eu-central-1.amazonaws.com/train-images-idx3-ubyte.gz\n",
      "Downloading http://fashion-mnist.s3-website.eu-central-1.amazonaws.com/train-images-idx3-ubyte.gz to ./datasets/FashionMNIST\\raw\\train-images-idx3-ubyte.gz\n"
     ]
    },
    {
     "data": {
      "text/plain": "  0%|          | 0/26421880 [00:00<?, ?it/s]",
      "application/vnd.jupyter.widget-view+json": {
       "version_major": 2,
       "version_minor": 0,
       "model_id": "64aa7d3fb73d448d8b0eefd76483339a"
      }
     },
     "metadata": {},
     "output_type": "display_data"
    },
    {
     "name": "stdout",
     "output_type": "stream",
     "text": [
      "Extracting ./datasets/FashionMNIST\\raw\\train-images-idx3-ubyte.gz to ./datasets/FashionMNIST\\raw\n",
      "\n",
      "Downloading http://fashion-mnist.s3-website.eu-central-1.amazonaws.com/train-labels-idx1-ubyte.gz\n",
      "Downloading http://fashion-mnist.s3-website.eu-central-1.amazonaws.com/train-labels-idx1-ubyte.gz to ./datasets/FashionMNIST\\raw\\train-labels-idx1-ubyte.gz\n"
     ]
    },
    {
     "data": {
      "text/plain": "  0%|          | 0/29515 [00:00<?, ?it/s]",
      "application/vnd.jupyter.widget-view+json": {
       "version_major": 2,
       "version_minor": 0,
       "model_id": "b182b23b5f914b9b805f2416ab245e41"
      }
     },
     "metadata": {},
     "output_type": "display_data"
    },
    {
     "name": "stdout",
     "output_type": "stream",
     "text": [
      "Extracting ./datasets/FashionMNIST\\raw\\train-labels-idx1-ubyte.gz to ./datasets/FashionMNIST\\raw\n",
      "\n",
      "Downloading http://fashion-mnist.s3-website.eu-central-1.amazonaws.com/t10k-images-idx3-ubyte.gz\n",
      "Downloading http://fashion-mnist.s3-website.eu-central-1.amazonaws.com/t10k-images-idx3-ubyte.gz to ./datasets/FashionMNIST\\raw\\t10k-images-idx3-ubyte.gz\n"
     ]
    },
    {
     "data": {
      "text/plain": "  0%|          | 0/4422102 [00:00<?, ?it/s]",
      "application/vnd.jupyter.widget-view+json": {
       "version_major": 2,
       "version_minor": 0,
       "model_id": "7e85150ba99b470685885fcdf4e92cdd"
      }
     },
     "metadata": {},
     "output_type": "display_data"
    },
    {
     "name": "stdout",
     "output_type": "stream",
     "text": [
      "Extracting ./datasets/FashionMNIST\\raw\\t10k-images-idx3-ubyte.gz to ./datasets/FashionMNIST\\raw\n",
      "\n",
      "Downloading http://fashion-mnist.s3-website.eu-central-1.amazonaws.com/t10k-labels-idx1-ubyte.gz\n",
      "Downloading http://fashion-mnist.s3-website.eu-central-1.amazonaws.com/t10k-labels-idx1-ubyte.gz to ./datasets/FashionMNIST\\raw\\t10k-labels-idx1-ubyte.gz\n"
     ]
    },
    {
     "data": {
      "text/plain": "  0%|          | 0/5148 [00:00<?, ?it/s]",
      "application/vnd.jupyter.widget-view+json": {
       "version_major": 2,
       "version_minor": 0,
       "model_id": "a29ec2f3e3774c8c8bd9ce0f72f7dfbb"
      }
     },
     "metadata": {},
     "output_type": "display_data"
    },
    {
     "name": "stdout",
     "output_type": "stream",
     "text": [
      "Extracting ./datasets/FashionMNIST\\raw\\t10k-labels-idx1-ubyte.gz to ./datasets/FashionMNIST\\raw\n",
      "\n"
     ]
    }
   ],
   "source": [
    "fashion_mnist_dataset = torchvision.datasets.FashionMNIST(root='./datasets/',\n",
    "                                                          train=True,\n",
    "                                                          download=True,\n",
    "                                                          transform=torchvision.transforms.ToTensor())\n",
    "\n",
    "fmnist_loader = torch.utils.data.DataLoader(dataset=fashion_mnist_dataset,\n",
    "                                            batch_size=BATCH_SIZE,\n",
    "                                            shuffle=True,\n",
    "                                            drop_last=True)"
   ]
  },
  {
   "cell_type": "code",
   "execution_count": 59,
   "outputs": [],
   "source": [
    "class CVae(torch.nn.Module):\n",
    "    def __init__(self, x_dim=28*28, z_dim=10, hidden_size=256, device=torch.device(\"cpu\"), cond_dim=None):\n",
    "        super(CVae, self).__init__()\n",
    "        self.device = device\n",
    "        self.z_dim = z_dim\n",
    "\n",
    "        if cond_dim is None:\n",
    "            cond_dim = 0\n",
    "\n",
    "        self.encoder = VaeEncoder(x_dim + cond_dim, hidden_size, z_dim=z_dim, device=device)\n",
    "        self.decoder = VaeDecoder(x_dim, hidden_size, z_dim=z_dim + cond_dim)\n",
    "\n",
    "    def encode(self, x):\n",
    "        z, mu, logvar = self.encoder(x)\n",
    "        return z, mu, logvar\n",
    "\n",
    "    def decode(self, z):\n",
    "        x = self.decoder(z)\n",
    "        return x\n",
    "\n",
    "    def sample(self, num_samples=1, x_cond=None):\n",
    "        \"\"\"\n",
    "        x_cond is expected to be a one-hot vector of length cond_dim with one dimension\n",
    "        \"\"\"\n",
    "        z = torch.randn(num_samples, self.z_dim).to(self.device)\n",
    "        if x_cond is not None:\n",
    "            z = torch.cat([z, x_cond.broadcast_to(z.shape)], dim=1)\n",
    "        return self.decode(z)\n",
    "\n",
    "    def forward(self, x, x_cond=None):\n",
    "        \"\"\"\n",
    "        This is the function called when doing the forward pass:\n",
    "        return x_recon, mu, logvar, z = Vae(X)\n",
    "        \"\"\"\n",
    "        if x_cond is not None:\n",
    "            x = torch.cat([x, x_cond], dim=1)\n",
    "\n",
    "        z, mu, logvar = self.encode(x)\n",
    "\n",
    "        if x_cond is not None:\n",
    "            z = torch.cat([z, x_cond], dim=1)\n",
    "\n",
    "        x_recon = self.decode(z)\n",
    "        return x_recon, mu, logvar, z"
   ],
   "metadata": {
    "collapsed": false,
    "pycharm": {
     "name": "#%%\n"
    }
   }
  },
  {
   "cell_type": "code",
   "execution_count": 90,
   "outputs": [],
   "source": [
    "def train_conditional_vae(cvae, dataloader, vae_optim, num_epochs=100, beta=1, checkpoint_freq=5):\n",
    "    losses = []\n",
    "\n",
    "    for epoch in range(num_epochs):\n",
    "        epoch_start_time = time.time()\n",
    "        batch_losses = []\n",
    "        for batch_i, batch in enumerate(dataloader):\n",
    "            # forward pass\n",
    "            x = batch[0].to(device).view(-1, X_DIM) # just the images\n",
    "            x_recon, mu, logvar, z = cvae(x, x_cond=labels_to_one_hots(batch[1].to(device), 10).to(device))\n",
    "            _, _, loss = beta_loss_function(x_recon, x, mu, logvar, beta=beta)\n",
    "\n",
    "            # optimization\n",
    "            vae_optim.zero_grad()\n",
    "            loss.backward()\n",
    "            vae_optim.step()\n",
    "\n",
    "            batch_losses.append(loss.data.cpu().numpy())\n",
    "\n",
    "            # save checkpoint:\n",
    "\n",
    "        losses.append(np.mean(batch_losses))\n",
    "\n",
    "        if epoch % checkpoint_freq == 0:\n",
    "            fname = f\"./checkpoints_cvae/beta_{beta}_cvae_{epoch}_epochs.pth\"\n",
    "            torch.save(cvae.state_dict(), fname)\n",
    "            print(\"saved checkpoint @\", fname)\n",
    "\n",
    "        print(f\"epoch: {epoch} loss: {losses[-1] :.5f} | epoch time: {time.time() - epoch_start_time:.3f} sec\")\n",
    "\n",
    "    # save final model:\n",
    "    fname = f\"./checkpoints_cvae/beta_{beta}_cvae_final.pth\"\n",
    "    torch.save(cvae.state_dict(), fname)\n",
    "    print(\"saved final model @\", fname)\n",
    "\n",
    "    return losses"
   ],
   "metadata": {
    "collapsed": false,
    "pycharm": {
     "name": "#%%\n"
    }
   }
  },
  {
   "cell_type": "code",
   "execution_count": 95,
   "outputs": [
    {
     "name": "stdout",
     "output_type": "stream",
     "text": [
      "saved checkpoint @ ./checkpoints_cvae/beta_1.5_cvae_0_epochs.pth\n",
      "epoch: 0 loss: 290.76035 | epoch time: 16.437 sec\n",
      "epoch: 1 loss: 259.47610 | epoch time: 14.342 sec\n",
      "epoch: 2 loss: 254.42549 | epoch time: 14.392 sec\n",
      "epoch: 3 loss: 251.68060 | epoch time: 14.409 sec\n",
      "epoch: 4 loss: 249.85989 | epoch time: 15.021 sec\n",
      "saved checkpoint @ ./checkpoints_cvae/beta_1.5_cvae_5_epochs.pth\n",
      "epoch: 5 loss: 248.67979 | epoch time: 14.424 sec\n",
      "epoch: 6 loss: 247.65358 | epoch time: 13.700 sec\n",
      "epoch: 7 loss: 246.85336 | epoch time: 13.325 sec\n",
      "epoch: 8 loss: 246.18674 | epoch time: 13.770 sec\n",
      "epoch: 9 loss: 245.72269 | epoch time: 14.656 sec\n",
      "saved checkpoint @ ./checkpoints_cvae/beta_1.5_cvae_10_epochs.pth\n",
      "epoch: 10 loss: 245.19975 | epoch time: 14.527 sec\n",
      "epoch: 11 loss: 244.91794 | epoch time: 15.456 sec\n",
      "epoch: 12 loss: 244.52162 | epoch time: 13.869 sec\n",
      "epoch: 13 loss: 244.24283 | epoch time: 13.362 sec\n",
      "epoch: 14 loss: 244.00919 | epoch time: 13.542 sec\n",
      "saved checkpoint @ ./checkpoints_cvae/beta_1.5_cvae_15_epochs.pth\n",
      "epoch: 15 loss: 243.82582 | epoch time: 13.463 sec\n",
      "epoch: 16 loss: 243.57008 | epoch time: 13.486 sec\n",
      "epoch: 17 loss: 243.39867 | epoch time: 14.275 sec\n",
      "epoch: 18 loss: 243.23709 | epoch time: 14.051 sec\n",
      "epoch: 19 loss: 243.06931 | epoch time: 14.476 sec\n",
      "saved checkpoint @ ./checkpoints_cvae/beta_1.5_cvae_20_epochs.pth\n",
      "epoch: 20 loss: 242.93230 | epoch time: 14.457 sec\n",
      "epoch: 21 loss: 242.81033 | epoch time: 14.960 sec\n",
      "epoch: 22 loss: 242.74567 | epoch time: 14.417 sec\n",
      "epoch: 23 loss: 242.64932 | epoch time: 14.416 sec\n",
      "epoch: 24 loss: 242.52888 | epoch time: 14.411 sec\n",
      "saved checkpoint @ ./checkpoints_cvae/beta_1.5_cvae_25_epochs.pth\n",
      "epoch: 25 loss: 242.43407 | epoch time: 15.318 sec\n",
      "epoch: 26 loss: 242.30933 | epoch time: 14.548 sec\n",
      "epoch: 27 loss: 242.32140 | epoch time: 14.607 sec\n",
      "epoch: 28 loss: 242.11273 | epoch time: 15.012 sec\n",
      "epoch: 29 loss: 242.14046 | epoch time: 15.066 sec\n",
      "saved checkpoint @ ./checkpoints_cvae/beta_1.5_cvae_30_epochs.pth\n",
      "epoch: 30 loss: 242.00856 | epoch time: 14.539 sec\n",
      "epoch: 31 loss: 241.98601 | epoch time: 14.015 sec\n",
      "epoch: 32 loss: 241.96721 | epoch time: 13.452 sec\n",
      "epoch: 33 loss: 241.87204 | epoch time: 13.989 sec\n",
      "epoch: 34 loss: 241.81818 | epoch time: 13.414 sec\n",
      "saved checkpoint @ ./checkpoints_cvae/beta_1.5_cvae_35_epochs.pth\n",
      "epoch: 35 loss: 241.76704 | epoch time: 13.503 sec\n",
      "epoch: 36 loss: 241.69582 | epoch time: 13.513 sec\n",
      "epoch: 37 loss: 241.60664 | epoch time: 13.425 sec\n",
      "epoch: 38 loss: 241.61610 | epoch time: 13.934 sec\n",
      "epoch: 39 loss: 241.57593 | epoch time: 13.532 sec\n",
      "saved checkpoint @ ./checkpoints_cvae/beta_1.5_cvae_40_epochs.pth\n",
      "epoch: 40 loss: 241.52580 | epoch time: 13.483 sec\n",
      "epoch: 41 loss: 241.46466 | epoch time: 13.430 sec\n",
      "epoch: 42 loss: 241.44687 | epoch time: 13.835 sec\n",
      "epoch: 43 loss: 241.44470 | epoch time: 13.446 sec\n",
      "epoch: 44 loss: 241.34726 | epoch time: 13.410 sec\n",
      "saved checkpoint @ ./checkpoints_cvae/beta_1.5_cvae_45_epochs.pth\n",
      "epoch: 45 loss: 241.31555 | epoch time: 13.683 sec\n",
      "epoch: 46 loss: 241.24513 | epoch time: 14.283 sec\n",
      "epoch: 47 loss: 241.26222 | epoch time: 14.125 sec\n",
      "epoch: 48 loss: 241.22566 | epoch time: 14.087 sec\n",
      "epoch: 49 loss: 241.20740 | epoch time: 13.643 sec\n",
      "saved checkpoint @ ./checkpoints_cvae/beta_1.5_cvae_50_epochs.pth\n",
      "epoch: 50 loss: 241.19908 | epoch time: 13.743 sec\n",
      "epoch: 51 loss: 241.10710 | epoch time: 16.122 sec\n",
      "epoch: 52 loss: 241.09763 | epoch time: 14.632 sec\n",
      "epoch: 53 loss: 241.06911 | epoch time: 13.474 sec\n",
      "epoch: 54 loss: 241.05527 | epoch time: 13.514 sec\n",
      "saved checkpoint @ ./checkpoints_cvae/beta_1.5_cvae_55_epochs.pth\n",
      "epoch: 55 loss: 241.00446 | epoch time: 13.993 sec\n",
      "epoch: 56 loss: 241.01933 | epoch time: 13.579 sec\n",
      "epoch: 57 loss: 241.00130 | epoch time: 13.526 sec\n",
      "epoch: 58 loss: 240.95609 | epoch time: 13.518 sec\n",
      "epoch: 59 loss: 240.92921 | epoch time: 13.906 sec\n",
      "saved checkpoint @ ./checkpoints_cvae/beta_1.5_cvae_60_epochs.pth\n",
      "epoch: 60 loss: 240.89252 | epoch time: 13.627 sec\n",
      "epoch: 61 loss: 240.93941 | epoch time: 13.557 sec\n",
      "epoch: 62 loss: 240.89865 | epoch time: 13.432 sec\n",
      "epoch: 63 loss: 240.86447 | epoch time: 13.559 sec\n",
      "epoch: 64 loss: 240.85718 | epoch time: 13.935 sec\n",
      "saved checkpoint @ ./checkpoints_cvae/beta_1.5_cvae_65_epochs.pth\n",
      "epoch: 65 loss: 240.77808 | epoch time: 13.480 sec\n",
      "epoch: 66 loss: 240.77141 | epoch time: 13.651 sec\n",
      "epoch: 67 loss: 240.77609 | epoch time: 13.533 sec\n",
      "epoch: 68 loss: 240.75005 | epoch time: 14.177 sec\n",
      "epoch: 69 loss: 240.70122 | epoch time: 13.571 sec\n",
      "saved checkpoint @ ./checkpoints_cvae/beta_1.5_cvae_70_epochs.pth\n",
      "epoch: 70 loss: 240.69905 | epoch time: 13.772 sec\n",
      "epoch: 71 loss: 240.68590 | epoch time: 13.589 sec\n",
      "epoch: 72 loss: 240.70804 | epoch time: 13.492 sec\n",
      "epoch: 73 loss: 240.66187 | epoch time: 14.264 sec\n",
      "epoch: 74 loss: 240.63129 | epoch time: 14.438 sec\n",
      "saved checkpoint @ ./checkpoints_cvae/beta_1.5_cvae_75_epochs.pth\n",
      "epoch: 75 loss: 240.54578 | epoch time: 14.586 sec\n",
      "epoch: 76 loss: 240.54570 | epoch time: 14.523 sec\n",
      "epoch: 77 loss: 240.56140 | epoch time: 15.015 sec\n",
      "epoch: 78 loss: 240.62238 | epoch time: 14.648 sec\n",
      "epoch: 79 loss: 240.52101 | epoch time: 14.467 sec\n",
      "saved checkpoint @ ./checkpoints_cvae/beta_1.5_cvae_80_epochs.pth\n",
      "epoch: 80 loss: 240.58144 | epoch time: 14.507 sec\n",
      "epoch: 81 loss: 240.50017 | epoch time: 15.085 sec\n",
      "epoch: 82 loss: 240.50809 | epoch time: 14.476 sec\n",
      "epoch: 83 loss: 240.50673 | epoch time: 14.485 sec\n",
      "epoch: 84 loss: 240.44371 | epoch time: 14.471 sec\n",
      "saved checkpoint @ ./checkpoints_cvae/beta_1.5_cvae_85_epochs.pth\n",
      "epoch: 85 loss: 240.41263 | epoch time: 15.032 sec\n",
      "epoch: 86 loss: 240.45966 | epoch time: 14.159 sec\n",
      "epoch: 87 loss: 240.46408 | epoch time: 13.509 sec\n",
      "epoch: 88 loss: 240.47588 | epoch time: 13.516 sec\n",
      "epoch: 89 loss: 240.40668 | epoch time: 14.129 sec\n",
      "saved checkpoint @ ./checkpoints_cvae/beta_1.5_cvae_90_epochs.pth\n",
      "epoch: 90 loss: 240.38417 | epoch time: 14.021 sec\n",
      "epoch: 91 loss: 240.43265 | epoch time: 13.403 sec\n",
      "epoch: 92 loss: 240.32936 | epoch time: 13.292 sec\n",
      "epoch: 93 loss: 240.35986 | epoch time: 13.390 sec\n",
      "epoch: 94 loss: 240.35735 | epoch time: 14.090 sec\n",
      "saved checkpoint @ ./checkpoints_cvae/beta_1.5_cvae_95_epochs.pth\n",
      "epoch: 95 loss: 240.37433 | epoch time: 13.456 sec\n",
      "epoch: 96 loss: 240.30867 | epoch time: 13.392 sec\n",
      "epoch: 97 loss: 240.32353 | epoch time: 13.716 sec\n",
      "epoch: 98 loss: 240.24989 | epoch time: 13.906 sec\n",
      "epoch: 99 loss: 240.34715 | epoch time: 13.549 sec\n",
      "saved final model @ ./checkpoints_cvae/beta_1.5_cvae_final.pth\n"
     ]
    }
   ],
   "source": [
    "cvae = CVae(x_dim=X_DIM, z_dim=Z_DIM, hidden_size=HIDDEN_SIZE, device=device, cond_dim=10).to(device)\n",
    "cvae_optim = torch.optim.Adam(cvae.parameters(), lr=LEARNING_RATE)\n",
    "\n",
    "losses = train_conditional_vae(cvae, fmnist_loader, cvae_optim, num_epochs=100, beta=1.5)\n"
   ],
   "metadata": {
    "collapsed": false,
    "pycharm": {
     "name": "#%%\n"
    }
   }
  },
  {
   "cell_type": "code",
   "execution_count": 96,
   "outputs": [
    {
     "data": {
      "text/plain": "[<matplotlib.lines.Line2D at 0x23d58d14240>]"
     },
     "execution_count": 96,
     "metadata": {},
     "output_type": "execute_result"
    },
    {
     "data": {
      "text/plain": "<Figure size 432x288 with 1 Axes>",
      "image/png": "[encoded data removed]"
     },
     "metadata": {
      "needs_background": "light"
     },
     "output_type": "display_data"
    }
   ],
   "source": [
    "# plot losses:\n",
    "plt.plot(losses)"
   ],
   "metadata": {
    "collapsed": false,
    "pycharm": {
     "name": "#%%\n"
    }
   }
  },
  {
   "cell_type": "code",
   "execution_count": 100,
   "outputs": [
    {
     "data": {
      "text/plain": "CVae(\n  (encoder): VaeEncoder(\n    (features): Sequential(\n      (0): Linear(in_features=794, out_features=256, bias=True)\n      (1): ReLU()\n    )\n    (fc1): Linear(in_features=256, out_features=10, bias=True)\n    (fc2): Linear(in_features=256, out_features=10, bias=True)\n  )\n  (decoder): VaeDecoder(\n    (decoder): Sequential(\n      (0): Linear(in_features=20, out_features=256, bias=True)\n      (1): ReLU()\n      (2): Linear(in_features=256, out_features=784, bias=True)\n      (3): Sigmoid()\n    )\n  )\n)"
     },
     "execution_count": 100,
     "metadata": {},
     "output_type": "execute_result"
    }
   ],
   "source": [
    "cvae = CVae(x_dim=X_DIM, z_dim=Z_DIM, hidden_size=HIDDEN_SIZE, device=device, cond_dim=10).to(device)\n",
    "cvae.load_state_dict(torch.load(\"./checkpoints_cvae/beta_1.5_cvae_final.pth\"))\n",
    "cvae.eval()"
   ],
   "metadata": {
    "collapsed": false,
    "pycharm": {
     "name": "#%%\n"
    }
   }
  },
  {
   "cell_type": "code",
   "execution_count": 102,
   "outputs": [],
   "source": [
    "def generate_items(cvae, item_id, num_images=6):\n",
    "    with torch.no_grad():\n",
    "        x_cond = labels_to_one_hots(torch.tensor([item_id]), 10).to(device)\n",
    "        cvae_samples = cvae.sample(num_samples=num_images, x_cond=x_cond).view(num_images, 28, 28).data.cpu().numpy()\n",
    "        fig = plt.figure(figsize=(8 ,5))\n",
    "        for i in range(num_images):\n",
    "            ax = fig.add_subplot(2, 3, i + 1)\n",
    "            ax.imshow(cvae_samples[i], cmap='gray')\n",
    "            ax.set_axis_off()"
   ],
   "metadata": {
    "collapsed": false,
    "pycharm": {
     "name": "#%%\n"
    }
   }
  },
  {
   "cell_type": "code",
   "execution_count": 106,
   "outputs": [
    {
     "data": {
      "text/plain": "<Figure size 576x360 with 6 Axes>",
      "image/png": "[encoded data removed]"
     },
     "metadata": {
      "needs_background": "light"
     },
     "output_type": "display_data"
    },
    {
     "data": {
      "text/plain": "<Figure size 576x360 with 6 Axes>",
      "image/png": "[encoded data removed]"
     },
     "metadata": {
      "needs_background": "light"
     },
     "output_type": "display_data"
    },
    {
     "data": {
      "text/plain": "<Figure size 576x360 with 6 Axes>",
      "image/png": "[encoded data removed]"
     },
     "metadata": {
      "needs_background": "light"
     },
     "output_type": "display_data"
    },
    {
     "data": {
      "text/plain": "<Figure size 576x360 with 6 Axes>",
      "image/png": "[encoded data removed]"
     },
     "metadata": {
      "needs_background": "light"
     },
     "output_type": "display_data"
    },
    {
     "data": {
      "text/plain": "<Figure size 576x360 with 6 Axes>",
      "image/png": "[encoded data removed]"
     },
     "metadata": {
      "needs_background": "light"
     },
     "output_type": "display_data"
    },
    {
     "data": {
      "text/plain": "<Figure size 576x360 with 6 Axes>",
      "image/png": "[encoded data removed]"
     },
     "metadata": {
      "needs_background": "light"
     },
     "output_type": "display_data"
    }
   ],
   "source": [
    "for i in range(6):\n",
    "    generate_items(cvae, i)"
   ],
   "metadata": {
    "collapsed": false,
    "pycharm": {
     "name": "#%%\n"
    }
   }
  },
  {
   "cell_type": "markdown",
   "metadata": {},
   "source": [
    "### <img src=\"https://img.icons8.com/bubbles/48/000000/ask-question.png\" style=\"height:50px;display:inline\"> Question 2 - Conditional VAE\n",
    "---\n",
    "1. Can we perform interpolation of the latent space as we did in the tutorial? What is the meaning of doing **in-class** interpolation in the case of Fashion-MNIST? Explain.\n",
    "2. Why did we convert the the classes number to one-hot vectors? Think of the other inputs to the networks and the values that the neurons accept. What is the risk of using just one number as the condition instead of a vector?\n",
    "3. How is the quality of the samples? How can the quality be improved? In you answer, refer to the bluriness in the samples."
   ]
  },
  {
   "cell_type": "markdown",
   "source": [
    "# Q2 Answers:\n",
    "\n",
    "## 1\n",
    "Yes, we can perform interpolation of the latent space as we did in the tutorial. If we want to perform in-class interpolation, we should interpolate between the two vectors only in the elements that are not conditional since the conditional elements are fixed. The meaning of doing that is that we will get different objects from the same class through out the interpolation.\n",
    "\n",
    "## 2\n",
    "Neurons expect to get a continuous value in each element while the classes label is a categorical variable. That means that for example, class *i* is not necessarily closer to class *i+1* than class *i+2* because their order is arbitrary, and neurons are not able to learn this relationship.\n",
    "In addition, it is generally recommended to use values that are normalized to [0, 1] (or [-1, 1], but not [0, 9]) in a neural network input to avoid problems such as vanishing/exploding gradients. By using one-hot we avoid inputting values like *9*.\n",
    "By putting one number, there is a risk that classes with close labels id will get tangled in each other, and we may also see instability in the training since we are having non - normalized vectors.\n",
    "\n",
    "## 3\n",
    "The quality of the images looks not bad but also not as good as the original images. The blurriness can be improved by choosing higher beta, and this is actually what we did, we used $\\beta = 1.5$.\n",
    "In addition, the image can be improved by improving the model like in any machine learning problem: adding more data, changing the architecture to be more complex, and etc...\n",
    "of course this kind of improvements will cost us in computation time and work.\n"
   ],
   "metadata": {
    "collapsed": false,
    "pycharm": {
     "name": "#%% md\n"
    }
   }
  },
  {
   "cell_type": "markdown",
   "metadata": {},
   "source": [
    "### <img src=\"https://img.icons8.com/color/48/000000/code.png\" style=\"height:50px;display:inline\"> Task 2 - BONUS - Pokemon: Gotta Generate 'Em All!\n",
    "---\n",
    "This is a **non-mandatory**, more challenging task. Come back here only if you are done with the rest of the exercise and want to take on a challenge.\n",
    "\n",
    "* Note - you should pick one of the following:\n",
    "    * Fully-connected - work with grayscale images (5 points)\n",
    "    * Convolutional - work with RGB images (10 points)\n",
    "* No matter what type of model you chose, you need to answer the bonus questions that follow the code.\n",
    "\n",
    "In this task we are going to (try) generate new pokemons! Our dataset includes ~900 pokemons. Each sample is a 60x60 image and the type of the pokemon (18 classes). The type is already in one-hot form. If you have access to a GPU, we recommend trying the convolutional version of this task.\n",
    "\n",
    "Let's look at the data, for the **fully-connected** version."
   ]
  },
  {
   "cell_type": "code",
   "execution_count": null,
   "metadata": {},
   "outputs": [],
   "source": [
    "from pokemon_dataset import PokemonDataset\n",
    "poke_data = PokemonDataset(root='./data/pokemon', rgb=False)\n",
    "sample_dataloader = DataLoader(poke_data, batch_size=6, shuffle=True, drop_last=True)"
   ]
  },
  {
   "cell_type": "code",
   "execution_count": null,
   "metadata": {},
   "outputs": [],
   "source": [
    "fig = plt.figure(figsize=(10 ,5))\n",
    "samples, labels = next(iter(sample_dataloader))\n",
    "for i in range(samples.size(0)):\n",
    "    ax = fig.add_subplot(2, 3, i + 1)\n",
    "    ax.imshow(samples[i][0].data.cpu().numpy(), cmap=\"gray\")\n",
    "    ax.set_axis_off()\n",
    "    \n",
    "print(\"can you name these pokemons?\")"
   ]
  },
  {
   "cell_type": "code",
   "execution_count": null,
   "metadata": {},
   "outputs": [],
   "source": [
    "# let's look at the types encoding\n",
    "poke_data.type_to_one_hot"
   ]
  },
  {
   "cell_type": "markdown",
   "metadata": {},
   "source": [
    "**The task**: Implement CVAE for the pokemon dataset, it should not be different than the one you implemented for Fashion-MNIST. The task is to define the model and tune the hyper-parameters. \n",
    "Note that due to being a really small dataset (only 900 examples!) you will need a really large number of epochs to get something. We don't expect to see actual pokemons, but we want to see the that the networks learned something. You will also need a larger latent space dimension, as pokemons are more complex than cloths.\n",
    "\n",
    "* If you have taken the **Computer Vision** course - you should add **data augementations** to the images, to create a more diverse dataset. Recommended augmentations: `RandomHorizontalFlip`, `ColorJitter`, random horizontal translation (up to 5 pixels).\n",
    "\n",
    "\n",
    "\n",
    "* Train CVAE on the pokemon dataset. Save a checkpoint once you are done: `pokemon_beta_(value of beta)_vae_(num epochs)_epochs.pth`.\n",
    "* Plot samples for at least 6 types of your choosing (try to find the better ones).\n",
    "* Plot reconstructions for at least 6 types of your choosing."
   ]
  },
  {
   "cell_type": "code",
   "execution_count": null,
   "metadata": {},
   "outputs": [],
   "source": [
    "# your code here - you can use as many cells as you need"
   ]
  },
  {
   "cell_type": "markdown",
   "metadata": {},
   "source": [
    "### Have access to a GPU and feel adventurous (CNN version)?\n",
    "* If you have completed the fully-connected verion, you can just skip to the bonus questions.\n",
    "\n",
    "If you feel creative and want to work with CNNs, we are giving you the VaeCnnEncoder and VaeCnnDecoder architectures, and all you have to do is implement the Vae class using these, and run the VAE with RGB images.\n",
    "Let's look at the data."
   ]
  },
  {
   "cell_type": "code",
   "execution_count": null,
   "metadata": {},
   "outputs": [],
   "source": [
    "from pokemon_dataset import PokemonDataset\n",
    "poke_data = PokemonDataset(root='./data/pokemon', rgb=True)\n",
    "sample_dataloader = DataLoader(poke_data, batch_size=6, shuffle=True, drop_last=True)\n",
    "\n",
    "fig = plt.figure(figsize=(10 ,5))\n",
    "samples, labels = next(iter(sample_dataloader))\n",
    "for i in range(samples.size(0)):\n",
    "    ax = fig.add_subplot(2, 3, i + 1)\n",
    "    ax.imshow(samples[i].permute(1, 2, 0).data.cpu().numpy())  # permute to (Height, Width, Channels)\n",
    "    ax.set_axis_off()\n",
    "    \n",
    "print(\"can you name these pokemons?\")"
   ]
  },
  {
   "cell_type": "markdown",
   "metadata": {},
   "source": [
    "### Your Turn\n",
    "* Impelement the convolutional CVAE and train it. Save a checkpoint `\"pokemon_cnn_beta_(value of beta)_vae_(num epochs)_epochs.pth\"`\n",
    "* Plot samples for at least 6 types of your choosing (try to find the better ones).\n",
    "* Plot reconstructions for at least 6 types of your choosing.\n",
    "\n",
    "\n",
    "* Note that the call to the loss function in the training loop is in the form: `loss = loss_function(x_recon, x.permute(0, 2, 3, 1), mu, logvar, loss_type='bce', beta=beta)`.\n",
    "    * This is because `x_recon` is in the shape (batch_size, H, W, C) and `x` is (batch_size, C, H, W).\n",
    "* Use a lower leraning rate (start with `1e-4`).\n",
    "\n",
    "* Components:\n",
    "    * Conv2D - `nn.Conv2d(in_channels, out_channels, kernel_size, stride)`\n",
    "    * Deconv2d - `nn.ConvTranspose2d(in_channels, out_channels, kernel_size, stride, padding, output_padding)`\n",
    "    * Batch Normalization 1D - `nn.BatchNorm1d(num_features, affine=True)`\n",
    "    * Batch Normalization 2D - `nn.BatchNorm2d(num_features, affine=True)`\n",
    "    * Calculate the convolutional output size with `_get_conv_out(self, shape)` as in tutorial 8.\n",
    "    * FC/Linear - `nn.Linear(in, out)`\n",
    "\n",
    "#### Encoder Architecture - `VaeCnnEncoder(torch.nn.Module)`\n",
    "* Block 1:\n",
    "    * Conv2d - `in_channels=3, out_channels=128, kernel_size=(3, 3), stride=(2, 2), padding=1`\n",
    "    * Batch Normalization 2D - 128 features\n",
    "    * ReLU (or any other activation you want)\n",
    "* Block 2:\n",
    "    * Conv2d - `in_channels=128, out_channels=64*4, kernel_size=(3, 3), stride=(2, 2), padding=1`\n",
    "    * Batch Normalization 2D - $64*4$ features\n",
    "    * ReLU (or any other activation you want)\n",
    "* Block 3:\n",
    "    * Conv2d - `in_channels=64*4, out_channels=64*8, kernel_size=(3, 3), stride=(2, 2), padding=1`\n",
    "    * Batch Normalization 2D - $64*8$ features\n",
    "    * ReLU (or any other activation you want)\n",
    "* FC1 ($\\mu$) - `nn.Linear(self._get_conv_out(x_shape) + self.cond_dim, self.z_dim)`\n",
    "* FC1 ($\\Sigma$) - `nn.Linear(self._get_conv_out(x_shape) + self.cond_dim, self.z_dim)`\n",
    "\n",
    "#### Decoder Architecture - `VaeCnnDecoder(torch.nn.Module)`\n",
    "* FC1 ($z$) - `nn.Linear(self.z_dim (+cond_dim), 64 * 4 * 4 * 4)`\n",
    "* Batch Normalization 1D - $64*4*4*4$ features.\n",
    "* Block 1:\n",
    "    * Deconv2d - `in_channels=64 * 4, 64 * 2, kernel_size=(3, 3), stride=(2, 2), padding=1, output_padding=1`\n",
    "    * Batch Normalization 2D - 128 features\n",
    "    * ReLU (or any other activation you want)\n",
    "* Block 2:\n",
    "    * Deconv2d - `in_channels=128, 64, kernel_size=(3, 3), stride=(2, 2), padding=1, output_padding=1`\n",
    "    * Batch Normalization 2D - 64 features\n",
    "    * ReLU (or any other activation you want)\n",
    "* Block 3:\n",
    "    * Deconv2d - `in_channels=64, 64, kernel_size=(3, 3), stride=(2, 2), padding=2, output_padding=1`\n",
    "    * Batch Normalization 2D - 64 features\n",
    "    * ReLU (or any other activation you want)\n",
    "* Deconv2d - `in_channels=64, 3, kernel_size=(3, 3), stride=(2, 2), padding=1, output_padding=1`\n",
    "* Sigmoid\n",
    "\n"
   ]
  },
  {
   "cell_type": "code",
   "execution_count": null,
   "metadata": {},
   "outputs": [],
   "source": [
    "# your code here"
   ]
  },
  {
   "cell_type": "markdown",
   "metadata": {},
   "source": [
    "### <img src=\"https://img.icons8.com/bubbles/48/000000/ask-question.png\" style=\"height:50px;display:inline\"> Bonus Question\n",
    "---\n",
    "1. What do you think about the results on the Pokemon dataset? Name at least 2 reasons for the VAE somewhat low performance on the Pokemon dataest.\n",
    "2. Suggest ideas to improve the performance (at least 2)."
   ]
  },
  {
   "cell_type": "markdown",
   "metadata": {},
   "source": [
    "### <img src=\"https://img.icons8.com/cotton/64/000000/grand-master-key.png\" style=\"height:50px;display:inline\"> Part 2 - Clustering - Prologue\n",
    "---\n",
    "In this task we are going to explore Spectral Clustering for image segmentation. \n",
    "In computer vision, **image segmentation** is the process of partitioning a digital image into multiple segments (sets of pixels, also known as image objects). The goal of segmentation is to simplify and/or change the representation of an image into something that is more meaningful and easier to analyze. Image segmentation is typically used to locate objects and boundaries (lines, curves, etc.) in images. More precisely, image segmentation is the process of assigning a label to every pixel in an image such that pixels with the same label share certain characteristics.\n",
    "\n",
    "We are going to compare K-Means to Spectral Clustering. Note that K-Means is also a step in the the spectral clustering algorithm."
   ]
  },
  {
   "cell_type": "code",
   "execution_count": null,
   "metadata": {},
   "outputs": [],
   "source": [
    "# imports for the exrcise - part 2\n",
    "# you can add more if you wish (but it is not really needed)\n",
    "import numpy as np\n",
    "import pandas as pd\n",
    "import matplotlib.pyplot as plt\n",
    "import time\n",
    "from PIL import Image\n",
    "from mpl_toolkits.axes_grid1 import make_axes_locatable\n",
    "import warnings\n",
    "\n",
    "# sklearn imports\n",
    "from sklearn.feature_extraction import image\n",
    "from sklearn.cluster import spectral_clustering, KMeans\n",
    "\n",
    "warnings.filterwarnings(category=UserWarning, action=\"ignore\")"
   ]
  },
  {
   "cell_type": "markdown",
   "metadata": {},
   "source": [
    "### <img src=\"https://img.icons8.com/bubbles/48/000000/ask-question.png\" style=\"height:50px;display:inline\"> Question 3 - Spectral Clustering Demonstration\n",
    "---\n",
    "Run the next code cell and answer (below the code cell) the following questions:\n",
    "1. Run the cell 3 times (Ctrl + Enter). Why are the results different in each run? Hint: Spectral Clustering uses K-Means, and this is the root of the changes, but why? Why running K-Means several times gives different results?\n",
    "2. The `image_to_graph` function builds a graph from the image. Explain how the graph is built (you can read the documentation of this function with `help(image.img_to_graph)`. What are the weights of edges?"
   ]
  },
  {
   "cell_type": "code",
   "execution_count": null,
   "metadata": {
    "scrolled": false
   },
   "outputs": [],
   "source": [
    "# run this cell\n",
    "start_time = time.time()\n",
    "original_img = Image.open(\"./data/a_logo_s.png\")\n",
    "grayscale_image = original_img.convert(\"L\")  # convert to grayscale\n",
    "img = np.array(grayscale_image)  # convert to np.array\n",
    "img[img==255] = 0  # zero-out the background, we don't care about it\n",
    "mask = img.astype(np.bool)  # create a mask for the graph-building function\n",
    "img = img.astype(float) / 255  # convert to numbers in [0,1]\n",
    "img += 1 / 255 + (0.2 / 255) * np.random.randn(*img.shape)  # add random noise to smooth the image\n",
    "\n",
    "graph = image.img_to_graph(img, mask=mask)  # build a graph with the gradients as weights\n",
    "graph.data = np.exp(-graph.data / graph.data.std())  # convert gradients to affinity\n",
    "\n",
    "labels = spectral_clustering(graph, n_clusters=60, eigen_solver='arpack')  # run spectral clustering\n",
    "label_im = np.full(mask.shape, -1.0)  # labels -> image\n",
    "label_im[mask] = labels  # assign correct labels\n",
    "\n",
    "fig = plt.figure(figsize=(14,8))\n",
    "ax1 = fig.add_subplot(121)\n",
    "imsh = ax1.imshow(label_im, cmap=plt.cm.rainbow)\n",
    "ax1.set_axis_off()\n",
    "divider = make_axes_locatable(ax1)\n",
    "cax = divider.append_axes(\"right\", size=\"5%\", pad=0.05)\n",
    "plt.colorbar(imsh, cax=cax)\n",
    "ax2 = fig.add_subplot(122)\n",
    "ax2.imshow(np.array(original_img))\n",
    "ax2.set_axis_off()\n",
    "print(\"total time: {:.3f} sec\".format(time.time() - start_time))"
   ]
  },
  {
   "cell_type": "markdown",
   "metadata": {},
   "source": [
    "### <img src=\"https://img.icons8.com/color/48/000000/code.png\" style=\"height:50px;display:inline\"> Task 3 - Image Segmentation with Spectral Clustering & K-Means\n",
    "---\n",
    "1. Run K-Means on `a_logo_s.png`. Tune the number of clusters and number of iterations and plot the results in the same way as in the demonstration.\n",
    "    * In order to use K-means on images, you need to reshape it: `img.reshape(-1,1)`\n",
    "    * To run K-Means: create an instance of K-Means: `k_means = KMeans(n_clusters=, max_iter=)` and *fit* the reshaped img: `k_means.fit(...)`\n",
    "    * To access the labels (=the assignment) of each pixel, call `labels = k_means.labels_`\n",
    "2. Load `iron_man_p_s.png` and run K-Means and Spectral Clustering. Tune each algorithm's hyper-parameters (specifically, `n_clusters`). Plot the results."
   ]
  },
  {
   "cell_type": "code",
   "execution_count": null,
   "metadata": {},
   "outputs": [],
   "source": [
    "# your code here - you can use as many cells as you need"
   ]
  },
  {
   "cell_type": "markdown",
   "metadata": {},
   "source": [
    "### <img src=\"https://img.icons8.com/bubbles/48/000000/ask-question.png\" style=\"height:50px;display:inline\"> Question 4 - Image Segmentation with Spectral Clustering & K-Means\n",
    "---\n",
    "1. Compare the results of K-Means and Spectral Clustering on the Avengers logo. Which algoirthm yields more satisfying results, in your opinion? Explain.\n",
    "2. Compare the results of K-Means and Spectral Clustering on Iron Man. Explain how did you tune the parameters (i.e., how did you pick the number of clusters). What is the difference between the Avengers logo and Iron Man?\n",
    "3. Summarize the advantages and disadvantages of K-Means and Spectral Clustering for image segmentation (running time, type of images, amount of tuning...)"
   ]
  },
  {
   "cell_type": "markdown",
   "metadata": {},
   "source": [
    "## <img src=\"https://img.icons8.com/dusk/64/000000/prize.png\" style=\"height:50px;display:inline\"> Credits\n",
    "* Icons from <a href=\"https://icons8.com/\">Icon8.com</a> - https://icons8.com\n",
    "* Datasets from <a href=\"https://www.kaggle.com/\">Kaggle</a> - https://www.kaggle.com/"
   ]
  }
 ],
 "metadata": {
  "kernelspec": {
   "display_name": "Python 3",
   "language": "python",
   "name": "python3"
  },
  "language_info": {
   "codemirror_mode": {
    "name": "ipython",
    "version": 3
   },
   "file_extension": ".py",
   "mimetype": "text/x-python",
   "name": "python",
   "nbconvert_exporter": "python",
   "pygments_lexer": "ipython3",
   "version": "3.6.9"
  }
 },
 "nbformat": 4,
 "nbformat_minor": 2
}